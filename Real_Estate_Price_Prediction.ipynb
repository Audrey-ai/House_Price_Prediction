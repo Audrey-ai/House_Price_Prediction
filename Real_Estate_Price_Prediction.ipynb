{
  "nbformat": 4,
  "nbformat_minor": 0,
  "metadata": {
    "colab": {
      "name": "Real_Estate_Price_Prediction.ipynb",
      "provenance": [],
      "collapsed_sections": [],
      "authorship_tag": "ABX9TyNBigsrNM+lWd0adRne/+AS",
      "include_colab_link": true
    },
    "kernelspec": {
      "name": "python3",
      "display_name": "Python 3"
    },
    "language_info": {
      "name": "python"
    }
  },
  "cells": [
    {
      "cell_type": "markdown",
      "metadata": {
        "id": "view-in-github",
        "colab_type": "text"
      },
      "source": [
        "<a href=\"https://colab.research.google.com/github/Audrey-ai/House_Price_Prediction/blob/main/Real_Estate_Price_Prediction.ipynb\" target=\"_parent\"><img src=\"https://colab.research.google.com/assets/colab-badge.svg\" alt=\"Open In Colab\"/></a>"
      ]
    },
    {
      "cell_type": "code",
      "metadata": {
        "id": "Bco8cEm7kHrM"
      },
      "source": [
        ""
      ],
      "execution_count": 662,
      "outputs": []
    },
    {
      "cell_type": "markdown",
      "metadata": {
        "id": "a1x6e261n5W3"
      },
      "source": [
        "#1. Defining the Question"
      ]
    },
    {
      "cell_type": "markdown",
      "metadata": {
        "id": "3DQa9tWOox47"
      },
      "source": [
        "### a) Specification of Data Analytical Question"
      ]
    },
    {
      "cell_type": "markdown",
      "metadata": {
        "id": "IPIFl4YEoADw"
      },
      "source": [
        "As a Data Scientist for Hass Consulting Company which is a real estate leader with over 25 years of experience,the task is to study the factors that affect housing prices using the given information on real estate properties that was collected over the past few months. \n",
        "\n",
        "\n",
        "The final outcome of the research is to create a model that would allow the company to accurately predict the sale of prices upon being provided with the predictor variables. "
      ]
    },
    {
      "cell_type": "markdown",
      "metadata": {
        "id": "GpXOrONMonS9"
      },
      "source": [
        "### b) Defining the Metric for Success"
      ]
    },
    {
      "cell_type": "markdown",
      "metadata": {
        "id": "tE01BFVIo3-d"
      },
      "source": [
        "Upon studying the factors taht affect housing prices,the research will be considered a success if a model is created that would allow the company to accurately predict the sale of prices upon being provided with the predictor variables."
      ]
    },
    {
      "cell_type": "markdown",
      "metadata": {
        "id": "uPOdGFpkp-4l"
      },
      "source": [
        "### c) Understanding the context "
      ]
    },
    {
      "cell_type": "markdown",
      "metadata": {
        "id": "GBGju4RAqGkl"
      },
      "source": [
        "The real estate market plays a very important role in any economy. It is known to have a\n",
        "dramatic multiplier effect and is a key economic indicator. The real estate market has\n",
        "experienced significant growth in the last decade w ith many countries experiencing house\n",
        "price fluctuations. \n",
        "\n",
        "\n",
        "To ensure the economy is proper positioned a study into forces behind the price fluctuations and hence the market growth is paramount and some of general factors that affect the prices include: interest rates, GDP, level of money supply and Inflation rate."
      ]
    },
    {
      "cell_type": "markdown",
      "metadata": {
        "id": "AQlFsY5YvtXH"
      },
      "source": [
        "### d) Recording the Experimental Design"
      ]
    },
    {
      "cell_type": "markdown",
      "metadata": {
        "id": "tLcBYeEewAGo"
      },
      "source": [
        "Experimental design refers to how variables are allocated to the different conditions in a reaserch or experiment.\n",
        "The experimental design used is Independent measures design, also known as between-groups,which is an experimental design where different variable recordings are used in each condition of the independent variable. "
      ]
    },
    {
      "cell_type": "markdown",
      "metadata": {
        "id": "Uw4vAjzewjPS"
      },
      "source": [
        "###e) Data Relevance"
      ]
    },
    {
      "cell_type": "markdown",
      "metadata": {
        "id": "lUaS6QqHwxt0"
      },
      "source": [
        "The data we are using in this research is relevant to our study as some of the variables of interest known to predict the price right from nature of the house(room capacity), location, the year the property was built and the nature of the property location in terms of the square feet size."
      ]
    },
    {
      "cell_type": "markdown",
      "metadata": {
        "id": "9osi_GC90sGa"
      },
      "source": [
        "#2. Reading and Checking of data\n"
      ]
    },
    {
      "cell_type": "code",
      "metadata": {
        "id": "j_-W2EZNFrFg"
      },
      "source": [
        "#Importing the relevant libraries to use in our reasecrh\n",
        "\n",
        "import pandas as pd\n",
        "import numpy as np\n",
        "import matplotlib.pyplot as plt\n",
        "import seaborn as sns\n",
        "\n",
        "from sklearn.preprocessing import PolynomialFeatures\n",
        "\n",
        "from sklearn.model_selection import train_test_split\n",
        "\n",
        "# Import LinearRegression method from sklearn linear_model library\n",
        "from sklearn.linear_model import LinearRegression"
      ],
      "execution_count": 663,
      "outputs": []
    },
    {
      "cell_type": "code",
      "metadata": {
        "id": "zawzY3RlJ-ud",
        "colab": {
          "base_uri": "https://localhost:8080/",
          "height": 426
        },
        "outputId": "09b02ea9-908f-4645-ab7a-05975a0d8e07"
      },
      "source": [
        "#Loading the dataset to use in our research\n",
        "\n",
        "df = pd.read_csv('house_data.csv')\n",
        "df"
      ],
      "execution_count": 664,
      "outputs": [
        {
          "output_type": "execute_result",
          "data": {
            "text/html": [
              "<div>\n",
              "<style scoped>\n",
              "    .dataframe tbody tr th:only-of-type {\n",
              "        vertical-align: middle;\n",
              "    }\n",
              "\n",
              "    .dataframe tbody tr th {\n",
              "        vertical-align: top;\n",
              "    }\n",
              "\n",
              "    .dataframe thead th {\n",
              "        text-align: right;\n",
              "    }\n",
              "</style>\n",
              "<table border=\"1\" class=\"dataframe\">\n",
              "  <thead>\n",
              "    <tr style=\"text-align: right;\">\n",
              "      <th></th>\n",
              "      <th>id</th>\n",
              "      <th>price</th>\n",
              "      <th>bedrooms</th>\n",
              "      <th>bathrooms</th>\n",
              "      <th>sqft_living</th>\n",
              "      <th>sqft_lot</th>\n",
              "      <th>floors</th>\n",
              "      <th>waterfront</th>\n",
              "      <th>view</th>\n",
              "      <th>condition</th>\n",
              "      <th>grade</th>\n",
              "      <th>sqft_above</th>\n",
              "      <th>sqft_basement</th>\n",
              "      <th>yr_built</th>\n",
              "      <th>yr_renovated</th>\n",
              "      <th>zipcode</th>\n",
              "      <th>lat</th>\n",
              "      <th>long</th>\n",
              "      <th>sqft_living15</th>\n",
              "      <th>sqft_lot15</th>\n",
              "    </tr>\n",
              "  </thead>\n",
              "  <tbody>\n",
              "    <tr>\n",
              "      <th>0</th>\n",
              "      <td>7129300520</td>\n",
              "      <td>221900.0</td>\n",
              "      <td>3</td>\n",
              "      <td>1.00</td>\n",
              "      <td>1180</td>\n",
              "      <td>5650</td>\n",
              "      <td>1.0</td>\n",
              "      <td>0</td>\n",
              "      <td>0</td>\n",
              "      <td>3</td>\n",
              "      <td>7</td>\n",
              "      <td>1180</td>\n",
              "      <td>0</td>\n",
              "      <td>1955</td>\n",
              "      <td>0</td>\n",
              "      <td>98178</td>\n",
              "      <td>47.5112</td>\n",
              "      <td>-122.257</td>\n",
              "      <td>1340</td>\n",
              "      <td>5650</td>\n",
              "    </tr>\n",
              "    <tr>\n",
              "      <th>1</th>\n",
              "      <td>6414100192</td>\n",
              "      <td>538000.0</td>\n",
              "      <td>3</td>\n",
              "      <td>2.25</td>\n",
              "      <td>2570</td>\n",
              "      <td>7242</td>\n",
              "      <td>2.0</td>\n",
              "      <td>0</td>\n",
              "      <td>0</td>\n",
              "      <td>3</td>\n",
              "      <td>7</td>\n",
              "      <td>2170</td>\n",
              "      <td>400</td>\n",
              "      <td>1951</td>\n",
              "      <td>1991</td>\n",
              "      <td>98125</td>\n",
              "      <td>47.7210</td>\n",
              "      <td>-122.319</td>\n",
              "      <td>1690</td>\n",
              "      <td>7639</td>\n",
              "    </tr>\n",
              "    <tr>\n",
              "      <th>2</th>\n",
              "      <td>5631500400</td>\n",
              "      <td>180000.0</td>\n",
              "      <td>2</td>\n",
              "      <td>1.00</td>\n",
              "      <td>770</td>\n",
              "      <td>10000</td>\n",
              "      <td>1.0</td>\n",
              "      <td>0</td>\n",
              "      <td>0</td>\n",
              "      <td>3</td>\n",
              "      <td>6</td>\n",
              "      <td>770</td>\n",
              "      <td>0</td>\n",
              "      <td>1933</td>\n",
              "      <td>0</td>\n",
              "      <td>98028</td>\n",
              "      <td>47.7379</td>\n",
              "      <td>-122.233</td>\n",
              "      <td>2720</td>\n",
              "      <td>8062</td>\n",
              "    </tr>\n",
              "    <tr>\n",
              "      <th>3</th>\n",
              "      <td>2487200875</td>\n",
              "      <td>604000.0</td>\n",
              "      <td>4</td>\n",
              "      <td>3.00</td>\n",
              "      <td>1960</td>\n",
              "      <td>5000</td>\n",
              "      <td>1.0</td>\n",
              "      <td>0</td>\n",
              "      <td>0</td>\n",
              "      <td>5</td>\n",
              "      <td>7</td>\n",
              "      <td>1050</td>\n",
              "      <td>910</td>\n",
              "      <td>1965</td>\n",
              "      <td>0</td>\n",
              "      <td>98136</td>\n",
              "      <td>47.5208</td>\n",
              "      <td>-122.393</td>\n",
              "      <td>1360</td>\n",
              "      <td>5000</td>\n",
              "    </tr>\n",
              "    <tr>\n",
              "      <th>4</th>\n",
              "      <td>1954400510</td>\n",
              "      <td>510000.0</td>\n",
              "      <td>3</td>\n",
              "      <td>2.00</td>\n",
              "      <td>1680</td>\n",
              "      <td>8080</td>\n",
              "      <td>1.0</td>\n",
              "      <td>0</td>\n",
              "      <td>0</td>\n",
              "      <td>3</td>\n",
              "      <td>8</td>\n",
              "      <td>1680</td>\n",
              "      <td>0</td>\n",
              "      <td>1987</td>\n",
              "      <td>0</td>\n",
              "      <td>98074</td>\n",
              "      <td>47.6168</td>\n",
              "      <td>-122.045</td>\n",
              "      <td>1800</td>\n",
              "      <td>7503</td>\n",
              "    </tr>\n",
              "    <tr>\n",
              "      <th>...</th>\n",
              "      <td>...</td>\n",
              "      <td>...</td>\n",
              "      <td>...</td>\n",
              "      <td>...</td>\n",
              "      <td>...</td>\n",
              "      <td>...</td>\n",
              "      <td>...</td>\n",
              "      <td>...</td>\n",
              "      <td>...</td>\n",
              "      <td>...</td>\n",
              "      <td>...</td>\n",
              "      <td>...</td>\n",
              "      <td>...</td>\n",
              "      <td>...</td>\n",
              "      <td>...</td>\n",
              "      <td>...</td>\n",
              "      <td>...</td>\n",
              "      <td>...</td>\n",
              "      <td>...</td>\n",
              "      <td>...</td>\n",
              "    </tr>\n",
              "    <tr>\n",
              "      <th>21608</th>\n",
              "      <td>263000018</td>\n",
              "      <td>360000.0</td>\n",
              "      <td>3</td>\n",
              "      <td>2.50</td>\n",
              "      <td>1530</td>\n",
              "      <td>1131</td>\n",
              "      <td>3.0</td>\n",
              "      <td>0</td>\n",
              "      <td>0</td>\n",
              "      <td>3</td>\n",
              "      <td>8</td>\n",
              "      <td>1530</td>\n",
              "      <td>0</td>\n",
              "      <td>2009</td>\n",
              "      <td>0</td>\n",
              "      <td>98103</td>\n",
              "      <td>47.6993</td>\n",
              "      <td>-122.346</td>\n",
              "      <td>1530</td>\n",
              "      <td>1509</td>\n",
              "    </tr>\n",
              "    <tr>\n",
              "      <th>21609</th>\n",
              "      <td>6600060120</td>\n",
              "      <td>400000.0</td>\n",
              "      <td>4</td>\n",
              "      <td>2.50</td>\n",
              "      <td>2310</td>\n",
              "      <td>5813</td>\n",
              "      <td>2.0</td>\n",
              "      <td>0</td>\n",
              "      <td>0</td>\n",
              "      <td>3</td>\n",
              "      <td>8</td>\n",
              "      <td>2310</td>\n",
              "      <td>0</td>\n",
              "      <td>2014</td>\n",
              "      <td>0</td>\n",
              "      <td>98146</td>\n",
              "      <td>47.5107</td>\n",
              "      <td>-122.362</td>\n",
              "      <td>1830</td>\n",
              "      <td>7200</td>\n",
              "    </tr>\n",
              "    <tr>\n",
              "      <th>21610</th>\n",
              "      <td>1523300141</td>\n",
              "      <td>402101.0</td>\n",
              "      <td>2</td>\n",
              "      <td>0.75</td>\n",
              "      <td>1020</td>\n",
              "      <td>1350</td>\n",
              "      <td>2.0</td>\n",
              "      <td>0</td>\n",
              "      <td>0</td>\n",
              "      <td>3</td>\n",
              "      <td>7</td>\n",
              "      <td>1020</td>\n",
              "      <td>0</td>\n",
              "      <td>2009</td>\n",
              "      <td>0</td>\n",
              "      <td>98144</td>\n",
              "      <td>47.5944</td>\n",
              "      <td>-122.299</td>\n",
              "      <td>1020</td>\n",
              "      <td>2007</td>\n",
              "    </tr>\n",
              "    <tr>\n",
              "      <th>21611</th>\n",
              "      <td>291310100</td>\n",
              "      <td>400000.0</td>\n",
              "      <td>3</td>\n",
              "      <td>2.50</td>\n",
              "      <td>1600</td>\n",
              "      <td>2388</td>\n",
              "      <td>2.0</td>\n",
              "      <td>0</td>\n",
              "      <td>0</td>\n",
              "      <td>3</td>\n",
              "      <td>8</td>\n",
              "      <td>1600</td>\n",
              "      <td>0</td>\n",
              "      <td>2004</td>\n",
              "      <td>0</td>\n",
              "      <td>98027</td>\n",
              "      <td>47.5345</td>\n",
              "      <td>-122.069</td>\n",
              "      <td>1410</td>\n",
              "      <td>1287</td>\n",
              "    </tr>\n",
              "    <tr>\n",
              "      <th>21612</th>\n",
              "      <td>1523300157</td>\n",
              "      <td>325000.0</td>\n",
              "      <td>2</td>\n",
              "      <td>0.75</td>\n",
              "      <td>1020</td>\n",
              "      <td>1076</td>\n",
              "      <td>2.0</td>\n",
              "      <td>0</td>\n",
              "      <td>0</td>\n",
              "      <td>3</td>\n",
              "      <td>7</td>\n",
              "      <td>1020</td>\n",
              "      <td>0</td>\n",
              "      <td>2008</td>\n",
              "      <td>0</td>\n",
              "      <td>98144</td>\n",
              "      <td>47.5941</td>\n",
              "      <td>-122.299</td>\n",
              "      <td>1020</td>\n",
              "      <td>1357</td>\n",
              "    </tr>\n",
              "  </tbody>\n",
              "</table>\n",
              "<p>21613 rows × 20 columns</p>\n",
              "</div>"
            ],
            "text/plain": [
              "               id     price  bedrooms  ...     long  sqft_living15  sqft_lot15\n",
              "0      7129300520  221900.0         3  ... -122.257           1340        5650\n",
              "1      6414100192  538000.0         3  ... -122.319           1690        7639\n",
              "2      5631500400  180000.0         2  ... -122.233           2720        8062\n",
              "3      2487200875  604000.0         4  ... -122.393           1360        5000\n",
              "4      1954400510  510000.0         3  ... -122.045           1800        7503\n",
              "...           ...       ...       ...  ...      ...            ...         ...\n",
              "21608   263000018  360000.0         3  ... -122.346           1530        1509\n",
              "21609  6600060120  400000.0         4  ... -122.362           1830        7200\n",
              "21610  1523300141  402101.0         2  ... -122.299           1020        2007\n",
              "21611   291310100  400000.0         3  ... -122.069           1410        1287\n",
              "21612  1523300157  325000.0         2  ... -122.299           1020        1357\n",
              "\n",
              "[21613 rows x 20 columns]"
            ]
          },
          "metadata": {
            "tags": []
          },
          "execution_count": 664
        }
      ]
    },
    {
      "cell_type": "code",
      "metadata": {
        "id": "s85wcKuIOavA",
        "colab": {
          "base_uri": "https://localhost:8080/"
        },
        "outputId": "0425a2ef-6f33-48c7-ba5c-be22c2e29b52"
      },
      "source": [
        "#Checking the shape of the dataset\n",
        "\n",
        "df.shape"
      ],
      "execution_count": 665,
      "outputs": [
        {
          "output_type": "execute_result",
          "data": {
            "text/plain": [
              "(21613, 20)"
            ]
          },
          "metadata": {
            "tags": []
          },
          "execution_count": 665
        }
      ]
    },
    {
      "cell_type": "code",
      "metadata": {
        "id": "nA3LOfFjOapl",
        "colab": {
          "base_uri": "https://localhost:8080/"
        },
        "outputId": "d738164d-cec2-4d2f-a864-427388be8832"
      },
      "source": [
        "#Checking the information on our dataset\n",
        "\n",
        "df.info()"
      ],
      "execution_count": 666,
      "outputs": [
        {
          "output_type": "stream",
          "text": [
            "<class 'pandas.core.frame.DataFrame'>\n",
            "RangeIndex: 21613 entries, 0 to 21612\n",
            "Data columns (total 20 columns):\n",
            " #   Column         Non-Null Count  Dtype  \n",
            "---  ------         --------------  -----  \n",
            " 0   id             21613 non-null  int64  \n",
            " 1   price          21613 non-null  float64\n",
            " 2   bedrooms       21613 non-null  int64  \n",
            " 3   bathrooms      21613 non-null  float64\n",
            " 4   sqft_living    21613 non-null  int64  \n",
            " 5   sqft_lot       21613 non-null  int64  \n",
            " 6   floors         21613 non-null  float64\n",
            " 7   waterfront     21613 non-null  int64  \n",
            " 8   view           21613 non-null  int64  \n",
            " 9   condition      21613 non-null  int64  \n",
            " 10  grade          21613 non-null  int64  \n",
            " 11  sqft_above     21613 non-null  int64  \n",
            " 12  sqft_basement  21613 non-null  int64  \n",
            " 13  yr_built       21613 non-null  int64  \n",
            " 14  yr_renovated   21613 non-null  int64  \n",
            " 15  zipcode        21613 non-null  int64  \n",
            " 16  lat            21613 non-null  float64\n",
            " 17  long           21613 non-null  float64\n",
            " 18  sqft_living15  21613 non-null  int64  \n",
            " 19  sqft_lot15     21613 non-null  int64  \n",
            "dtypes: float64(5), int64(15)\n",
            "memory usage: 3.3 MB\n"
          ],
          "name": "stdout"
        }
      ]
    },
    {
      "cell_type": "markdown",
      "metadata": {
        "id": "a7oxek_wSxDW"
      },
      "source": [
        "#3. Data Cleaning"
      ]
    },
    {
      "cell_type": "code",
      "metadata": {
        "id": "mg_gVuPxS2-k",
        "colab": {
          "base_uri": "https://localhost:8080/",
          "height": 217
        },
        "outputId": "89279d76-811f-4660-e769-fcfb74ece738"
      },
      "source": [
        "#Dropping unnecessary columns\n",
        "\n",
        "df.drop(['id','lat','long'],axis=1,inplace=True)\n",
        "df.head()"
      ],
      "execution_count": 667,
      "outputs": [
        {
          "output_type": "execute_result",
          "data": {
            "text/html": [
              "<div>\n",
              "<style scoped>\n",
              "    .dataframe tbody tr th:only-of-type {\n",
              "        vertical-align: middle;\n",
              "    }\n",
              "\n",
              "    .dataframe tbody tr th {\n",
              "        vertical-align: top;\n",
              "    }\n",
              "\n",
              "    .dataframe thead th {\n",
              "        text-align: right;\n",
              "    }\n",
              "</style>\n",
              "<table border=\"1\" class=\"dataframe\">\n",
              "  <thead>\n",
              "    <tr style=\"text-align: right;\">\n",
              "      <th></th>\n",
              "      <th>price</th>\n",
              "      <th>bedrooms</th>\n",
              "      <th>bathrooms</th>\n",
              "      <th>sqft_living</th>\n",
              "      <th>sqft_lot</th>\n",
              "      <th>floors</th>\n",
              "      <th>waterfront</th>\n",
              "      <th>view</th>\n",
              "      <th>condition</th>\n",
              "      <th>grade</th>\n",
              "      <th>sqft_above</th>\n",
              "      <th>sqft_basement</th>\n",
              "      <th>yr_built</th>\n",
              "      <th>yr_renovated</th>\n",
              "      <th>zipcode</th>\n",
              "      <th>sqft_living15</th>\n",
              "      <th>sqft_lot15</th>\n",
              "    </tr>\n",
              "  </thead>\n",
              "  <tbody>\n",
              "    <tr>\n",
              "      <th>0</th>\n",
              "      <td>221900.0</td>\n",
              "      <td>3</td>\n",
              "      <td>1.00</td>\n",
              "      <td>1180</td>\n",
              "      <td>5650</td>\n",
              "      <td>1.0</td>\n",
              "      <td>0</td>\n",
              "      <td>0</td>\n",
              "      <td>3</td>\n",
              "      <td>7</td>\n",
              "      <td>1180</td>\n",
              "      <td>0</td>\n",
              "      <td>1955</td>\n",
              "      <td>0</td>\n",
              "      <td>98178</td>\n",
              "      <td>1340</td>\n",
              "      <td>5650</td>\n",
              "    </tr>\n",
              "    <tr>\n",
              "      <th>1</th>\n",
              "      <td>538000.0</td>\n",
              "      <td>3</td>\n",
              "      <td>2.25</td>\n",
              "      <td>2570</td>\n",
              "      <td>7242</td>\n",
              "      <td>2.0</td>\n",
              "      <td>0</td>\n",
              "      <td>0</td>\n",
              "      <td>3</td>\n",
              "      <td>7</td>\n",
              "      <td>2170</td>\n",
              "      <td>400</td>\n",
              "      <td>1951</td>\n",
              "      <td>1991</td>\n",
              "      <td>98125</td>\n",
              "      <td>1690</td>\n",
              "      <td>7639</td>\n",
              "    </tr>\n",
              "    <tr>\n",
              "      <th>2</th>\n",
              "      <td>180000.0</td>\n",
              "      <td>2</td>\n",
              "      <td>1.00</td>\n",
              "      <td>770</td>\n",
              "      <td>10000</td>\n",
              "      <td>1.0</td>\n",
              "      <td>0</td>\n",
              "      <td>0</td>\n",
              "      <td>3</td>\n",
              "      <td>6</td>\n",
              "      <td>770</td>\n",
              "      <td>0</td>\n",
              "      <td>1933</td>\n",
              "      <td>0</td>\n",
              "      <td>98028</td>\n",
              "      <td>2720</td>\n",
              "      <td>8062</td>\n",
              "    </tr>\n",
              "    <tr>\n",
              "      <th>3</th>\n",
              "      <td>604000.0</td>\n",
              "      <td>4</td>\n",
              "      <td>3.00</td>\n",
              "      <td>1960</td>\n",
              "      <td>5000</td>\n",
              "      <td>1.0</td>\n",
              "      <td>0</td>\n",
              "      <td>0</td>\n",
              "      <td>5</td>\n",
              "      <td>7</td>\n",
              "      <td>1050</td>\n",
              "      <td>910</td>\n",
              "      <td>1965</td>\n",
              "      <td>0</td>\n",
              "      <td>98136</td>\n",
              "      <td>1360</td>\n",
              "      <td>5000</td>\n",
              "    </tr>\n",
              "    <tr>\n",
              "      <th>4</th>\n",
              "      <td>510000.0</td>\n",
              "      <td>3</td>\n",
              "      <td>2.00</td>\n",
              "      <td>1680</td>\n",
              "      <td>8080</td>\n",
              "      <td>1.0</td>\n",
              "      <td>0</td>\n",
              "      <td>0</td>\n",
              "      <td>3</td>\n",
              "      <td>8</td>\n",
              "      <td>1680</td>\n",
              "      <td>0</td>\n",
              "      <td>1987</td>\n",
              "      <td>0</td>\n",
              "      <td>98074</td>\n",
              "      <td>1800</td>\n",
              "      <td>7503</td>\n",
              "    </tr>\n",
              "  </tbody>\n",
              "</table>\n",
              "</div>"
            ],
            "text/plain": [
              "      price  bedrooms  bathrooms  ...  zipcode  sqft_living15  sqft_lot15\n",
              "0  221900.0         3       1.00  ...    98178           1340        5650\n",
              "1  538000.0         3       2.25  ...    98125           1690        7639\n",
              "2  180000.0         2       1.00  ...    98028           2720        8062\n",
              "3  604000.0         4       3.00  ...    98136           1360        5000\n",
              "4  510000.0         3       2.00  ...    98074           1800        7503\n",
              "\n",
              "[5 rows x 17 columns]"
            ]
          },
          "metadata": {
            "tags": []
          },
          "execution_count": 667
        }
      ]
    },
    {
      "cell_type": "code",
      "metadata": {
        "id": "zz-soCYdVcQF",
        "colab": {
          "base_uri": "https://localhost:8080/"
        },
        "outputId": "bbfb490d-8dd4-4472-99fc-a20bb82cf8a2"
      },
      "source": [
        "#Checking for null values\n",
        "\n",
        "df.isnull().any()\n",
        "\n",
        "#There are no null values in our dataset"
      ],
      "execution_count": 668,
      "outputs": [
        {
          "output_type": "execute_result",
          "data": {
            "text/plain": [
              "price            False\n",
              "bedrooms         False\n",
              "bathrooms        False\n",
              "sqft_living      False\n",
              "sqft_lot         False\n",
              "floors           False\n",
              "waterfront       False\n",
              "view             False\n",
              "condition        False\n",
              "grade            False\n",
              "sqft_above       False\n",
              "sqft_basement    False\n",
              "yr_built         False\n",
              "yr_renovated     False\n",
              "zipcode          False\n",
              "sqft_living15    False\n",
              "sqft_lot15       False\n",
              "dtype: bool"
            ]
          },
          "metadata": {
            "tags": []
          },
          "execution_count": 668
        }
      ]
    },
    {
      "cell_type": "code",
      "metadata": {
        "id": "nnW767kmi5oD",
        "colab": {
          "base_uri": "https://localhost:8080/"
        },
        "outputId": "1db21c14-0a11-415f-c752-bde141c4b820"
      },
      "source": [
        "#Checking for duplicate values\n",
        "\n",
        "df.duplicated().any()\n",
        "\n",
        "#There are duplicate entries in our data\n",
        "#Dropping duplicates\n",
        "\n",
        "df.drop_duplicates(inplace=True)\n",
        "\n",
        "#Checking if there are any more duplicate values after dropping\n",
        "df.duplicated().any()   #There are no more duplicate values"
      ],
      "execution_count": 669,
      "outputs": [
        {
          "output_type": "execute_result",
          "data": {
            "text/plain": [
              "False"
            ]
          },
          "metadata": {
            "tags": []
          },
          "execution_count": 669
        }
      ]
    },
    {
      "cell_type": "code",
      "metadata": {
        "id": "Rz6zn-G_mT5B",
        "colab": {
          "base_uri": "https://localhost:8080/",
          "height": 657
        },
        "outputId": "7a675df1-3779-4ecb-d044-62b522d6486c"
      },
      "source": [
        "#Checking for outliers\n",
        "\n",
        "Variables = ['price','sqft_living','sqft_lot','sqft_above','sqft_basement','sqft_living15','sqft_lot15']\n",
        "\n",
        "fig, ax = plt.subplots(len(Variables), figsize=(6,5))\n",
        "fig.suptitle('Boxplots')\n",
        "\n",
        "for i,col_val in enumerate(Variables):\n",
        "    sns.boxplot(df[col_val],ax=ax[i])\n",
        "\n",
        "plt.show"
      ],
      "execution_count": 670,
      "outputs": [
        {
          "output_type": "stream",
          "text": [
            "/usr/local/lib/python3.7/dist-packages/seaborn/_decorators.py:43: FutureWarning: Pass the following variable as a keyword arg: x. From version 0.12, the only valid positional argument will be `data`, and passing other arguments without an explicit keyword will result in an error or misinterpretation.\n",
            "  FutureWarning\n",
            "/usr/local/lib/python3.7/dist-packages/seaborn/_decorators.py:43: FutureWarning: Pass the following variable as a keyword arg: x. From version 0.12, the only valid positional argument will be `data`, and passing other arguments without an explicit keyword will result in an error or misinterpretation.\n",
            "  FutureWarning\n",
            "/usr/local/lib/python3.7/dist-packages/seaborn/_decorators.py:43: FutureWarning: Pass the following variable as a keyword arg: x. From version 0.12, the only valid positional argument will be `data`, and passing other arguments without an explicit keyword will result in an error or misinterpretation.\n",
            "  FutureWarning\n",
            "/usr/local/lib/python3.7/dist-packages/seaborn/_decorators.py:43: FutureWarning: Pass the following variable as a keyword arg: x. From version 0.12, the only valid positional argument will be `data`, and passing other arguments without an explicit keyword will result in an error or misinterpretation.\n",
            "  FutureWarning\n",
            "/usr/local/lib/python3.7/dist-packages/seaborn/_decorators.py:43: FutureWarning: Pass the following variable as a keyword arg: x. From version 0.12, the only valid positional argument will be `data`, and passing other arguments without an explicit keyword will result in an error or misinterpretation.\n",
            "  FutureWarning\n",
            "/usr/local/lib/python3.7/dist-packages/seaborn/_decorators.py:43: FutureWarning: Pass the following variable as a keyword arg: x. From version 0.12, the only valid positional argument will be `data`, and passing other arguments without an explicit keyword will result in an error or misinterpretation.\n",
            "  FutureWarning\n",
            "/usr/local/lib/python3.7/dist-packages/seaborn/_decorators.py:43: FutureWarning: Pass the following variable as a keyword arg: x. From version 0.12, the only valid positional argument will be `data`, and passing other arguments without an explicit keyword will result in an error or misinterpretation.\n",
            "  FutureWarning\n"
          ],
          "name": "stderr"
        },
        {
          "output_type": "execute_result",
          "data": {
            "text/plain": [
              "<function matplotlib.pyplot.show>"
            ]
          },
          "metadata": {
            "tags": []
          },
          "execution_count": 670
        },
        {
          "output_type": "display_data",
          "data": {
            "image/png": "[encoded data removed]",
            "text/plain": [
              "<Figure size 432x360 with 7 Axes>"
            ]
          },
          "metadata": {
            "tags": [],
            "needs_background": "light"
          }
        }
      ]
    },
    {
      "cell_type": "code",
      "metadata": {
        "id": "y2kDdD50olYY",
        "colab": {
          "base_uri": "https://localhost:8080/",
          "height": 217
        },
        "outputId": "1f02a154-426f-48fd-d5d0-1adc2000fd57"
      },
      "source": [
        "#Creating a year column that reflects how long it takes to renovate a built house\n",
        "df['year'] = df['yr_renovated'] -df['yr_built']\n",
        "\n",
        "#Creating an updated year column\n",
        "#First creating a list of our conditions\n",
        "condition = [(df['year'] < 0),\n",
        "             (df['year']==0),\n",
        "             (df['year']>0)]\n",
        "  \n",
        "\n",
        "# create a list of the values we want to assign for each condition\n",
        "value = [0,0,df['year']]\n",
        "\n",
        "# create a new column and use np.select to assign values to it using our lists as arguments\n",
        "df['year_adj'] = np.select(condition, value)\n",
        "\n",
        "\n",
        "#Cross-checking our data to see if year column has been created and updated\n",
        "df.head()"
      ],
      "execution_count": 671,
      "outputs": [
        {
          "output_type": "execute_result",
          "data": {
            "text/html": [
              "<div>\n",
              "<style scoped>\n",
              "    .dataframe tbody tr th:only-of-type {\n",
              "        vertical-align: middle;\n",
              "    }\n",
              "\n",
              "    .dataframe tbody tr th {\n",
              "        vertical-align: top;\n",
              "    }\n",
              "\n",
              "    .dataframe thead th {\n",
              "        text-align: right;\n",
              "    }\n",
              "</style>\n",
              "<table border=\"1\" class=\"dataframe\">\n",
              "  <thead>\n",
              "    <tr style=\"text-align: right;\">\n",
              "      <th></th>\n",
              "      <th>price</th>\n",
              "      <th>bedrooms</th>\n",
              "      <th>bathrooms</th>\n",
              "      <th>sqft_living</th>\n",
              "      <th>sqft_lot</th>\n",
              "      <th>floors</th>\n",
              "      <th>waterfront</th>\n",
              "      <th>view</th>\n",
              "      <th>condition</th>\n",
              "      <th>grade</th>\n",
              "      <th>sqft_above</th>\n",
              "      <th>sqft_basement</th>\n",
              "      <th>yr_built</th>\n",
              "      <th>yr_renovated</th>\n",
              "      <th>zipcode</th>\n",
              "      <th>sqft_living15</th>\n",
              "      <th>sqft_lot15</th>\n",
              "      <th>year</th>\n",
              "      <th>year_adj</th>\n",
              "    </tr>\n",
              "  </thead>\n",
              "  <tbody>\n",
              "    <tr>\n",
              "      <th>0</th>\n",
              "      <td>221900.0</td>\n",
              "      <td>3</td>\n",
              "      <td>1.00</td>\n",
              "      <td>1180</td>\n",
              "      <td>5650</td>\n",
              "      <td>1.0</td>\n",
              "      <td>0</td>\n",
              "      <td>0</td>\n",
              "      <td>3</td>\n",
              "      <td>7</td>\n",
              "      <td>1180</td>\n",
              "      <td>0</td>\n",
              "      <td>1955</td>\n",
              "      <td>0</td>\n",
              "      <td>98178</td>\n",
              "      <td>1340</td>\n",
              "      <td>5650</td>\n",
              "      <td>-1955</td>\n",
              "      <td>0</td>\n",
              "    </tr>\n",
              "    <tr>\n",
              "      <th>1</th>\n",
              "      <td>538000.0</td>\n",
              "      <td>3</td>\n",
              "      <td>2.25</td>\n",
              "      <td>2570</td>\n",
              "      <td>7242</td>\n",
              "      <td>2.0</td>\n",
              "      <td>0</td>\n",
              "      <td>0</td>\n",
              "      <td>3</td>\n",
              "      <td>7</td>\n",
              "      <td>2170</td>\n",
              "      <td>400</td>\n",
              "      <td>1951</td>\n",
              "      <td>1991</td>\n",
              "      <td>98125</td>\n",
              "      <td>1690</td>\n",
              "      <td>7639</td>\n",
              "      <td>40</td>\n",
              "      <td>40</td>\n",
              "    </tr>\n",
              "    <tr>\n",
              "      <th>2</th>\n",
              "      <td>180000.0</td>\n",
              "      <td>2</td>\n",
              "      <td>1.00</td>\n",
              "      <td>770</td>\n",
              "      <td>10000</td>\n",
              "      <td>1.0</td>\n",
              "      <td>0</td>\n",
              "      <td>0</td>\n",
              "      <td>3</td>\n",
              "      <td>6</td>\n",
              "      <td>770</td>\n",
              "      <td>0</td>\n",
              "      <td>1933</td>\n",
              "      <td>0</td>\n",
              "      <td>98028</td>\n",
              "      <td>2720</td>\n",
              "      <td>8062</td>\n",
              "      <td>-1933</td>\n",
              "      <td>0</td>\n",
              "    </tr>\n",
              "    <tr>\n",
              "      <th>3</th>\n",
              "      <td>604000.0</td>\n",
              "      <td>4</td>\n",
              "      <td>3.00</td>\n",
              "      <td>1960</td>\n",
              "      <td>5000</td>\n",
              "      <td>1.0</td>\n",
              "      <td>0</td>\n",
              "      <td>0</td>\n",
              "      <td>5</td>\n",
              "      <td>7</td>\n",
              "      <td>1050</td>\n",
              "      <td>910</td>\n",
              "      <td>1965</td>\n",
              "      <td>0</td>\n",
              "      <td>98136</td>\n",
              "      <td>1360</td>\n",
              "      <td>5000</td>\n",
              "      <td>-1965</td>\n",
              "      <td>0</td>\n",
              "    </tr>\n",
              "    <tr>\n",
              "      <th>4</th>\n",
              "      <td>510000.0</td>\n",
              "      <td>3</td>\n",
              "      <td>2.00</td>\n",
              "      <td>1680</td>\n",
              "      <td>8080</td>\n",
              "      <td>1.0</td>\n",
              "      <td>0</td>\n",
              "      <td>0</td>\n",
              "      <td>3</td>\n",
              "      <td>8</td>\n",
              "      <td>1680</td>\n",
              "      <td>0</td>\n",
              "      <td>1987</td>\n",
              "      <td>0</td>\n",
              "      <td>98074</td>\n",
              "      <td>1800</td>\n",
              "      <td>7503</td>\n",
              "      <td>-1987</td>\n",
              "      <td>0</td>\n",
              "    </tr>\n",
              "  </tbody>\n",
              "</table>\n",
              "</div>"
            ],
            "text/plain": [
              "      price  bedrooms  bathrooms  ...  sqft_lot15  year  year_adj\n",
              "0  221900.0         3       1.00  ...        5650 -1955         0\n",
              "1  538000.0         3       2.25  ...        7639    40        40\n",
              "2  180000.0         2       1.00  ...        8062 -1933         0\n",
              "3  604000.0         4       3.00  ...        5000 -1965         0\n",
              "4  510000.0         3       2.00  ...        7503 -1987         0\n",
              "\n",
              "[5 rows x 19 columns]"
            ]
          },
          "metadata": {
            "tags": []
          },
          "execution_count": 671
        }
      ]
    },
    {
      "cell_type": "markdown",
      "metadata": {
        "id": "mt509oJbopsh"
      },
      "source": [
        "#4. Exploratory Data Analysis"
      ]
    },
    {
      "cell_type": "markdown",
      "metadata": {
        "id": "rbphTbrRp_6F"
      },
      "source": [
        "#4.a)Univariate Data Analysis"
      ]
    },
    {
      "cell_type": "code",
      "metadata": {
        "id": "59IGAHyNp_Ge",
        "colab": {
          "base_uri": "https://localhost:8080/"
        },
        "outputId": "a7db7c0c-5e92-4c11-c385-d32a5b3ecbe2"
      },
      "source": [
        "#Creating frequency tables for a few variables\n",
        "\n",
        "Freq= ['bedrooms','floors','condition','grade']\n",
        "\n",
        "for variable in Freq:\n",
        " print(variable)\n",
        " print(df[variable].value_counts())\n",
        "\n",
        " \n",
        "\n",
        " #From the frequency tables below,\n",
        " # Most houses in our dataset have 3 bedrooms and have no floor divisions\n"
      ],
      "execution_count": 672,
      "outputs": [
        {
          "output_type": "stream",
          "text": [
            "bedrooms\n",
            "3     9821\n",
            "4     6881\n",
            "2     2759\n",
            "5     1600\n",
            "6      272\n",
            "1      199\n",
            "7       38\n",
            "8       13\n",
            "0       13\n",
            "9        6\n",
            "10       3\n",
            "11       1\n",
            "33       1\n",
            "Name: bedrooms, dtype: int64\n",
            "floors\n",
            "1.0    10680\n",
            "2.0     8236\n",
            "1.5     1910\n",
            "3.0      612\n",
            "2.5      161\n",
            "3.5        8\n",
            "Name: floors, dtype: int64\n",
            "condition\n",
            "3    14026\n",
            "4     5678\n",
            "5     1701\n",
            "2      172\n",
            "1       30\n",
            "Name: condition, dtype: int64\n",
            "grade\n",
            "7     8981\n",
            "8     6065\n",
            "9     2612\n",
            "6     2038\n",
            "10    1134\n",
            "11     399\n",
            "5      242\n",
            "12      90\n",
            "4       29\n",
            "13      13\n",
            "3        3\n",
            "1        1\n",
            "Name: grade, dtype: int64\n"
          ],
          "name": "stdout"
        }
      ]
    },
    {
      "cell_type": "code",
      "metadata": {
        "id": "0ty1OVZQrb4b",
        "colab": {
          "base_uri": "https://localhost:8080/",
          "height": 441
        },
        "outputId": "09379b4b-ffd3-4a2a-ea61-c786afa4e982"
      },
      "source": [
        "#Checking the top 5  years with most renovations\n",
        "#\n",
        "#Bar plot on the year of renovations\n",
        "\n",
        "df['yr_renovated'][df['yr_renovated']!=0].value_counts().head(5).plot.bar(figsize=(8,6))\n",
        "\n",
        "plt.title('Freq dist of renovation years',size=18)\n",
        "plt.xlabel('year',size=18)\n",
        "plt.xticks(fontsize=14,rotation=45)\n",
        "plt.ylabel('Frequency',size=18)\n",
        "plt.show()\n",
        "\n",
        "\n",
        "\n",
        "#Most houses in our dataset are yet to be renovated \n",
        "#but for those renovated,most renovations were done in 2014 and 2013"
      ],
      "execution_count": 673,
      "outputs": [
        {
          "output_type": "display_data",
          "data": {
            "image/png": "[encoded data removed]",
            "text/plain": [
              "<Figure size 576x432 with 1 Axes>"
            ]
          },
          "metadata": {
            "tags": [],
            "needs_background": "light"
          }
        }
      ]
    },
    {
      "cell_type": "code",
      "metadata": {
        "colab": {
          "base_uri": "https://localhost:8080/",
          "height": 434
        },
        "id": "5NNQekAy9s_5",
        "outputId": "b47338da-f393-4fa4-b527-070fad4d28bb"
      },
      "source": [
        "#Checking the top 5  years where most houses have their life span\n",
        "#\n",
        "#Bar plot on the building life span\n",
        "\n",
        "df['yr_built'][df['yr_built']!=0].value_counts().head(5).plot.barh(figsize=(8,6),color='violet')\n",
        "\n",
        "plt.title('Freq dist of house life span in years',size=18)\n",
        "plt.xlabel('year',size=18)\n",
        "plt.xticks(fontsize=14,rotation=45)\n",
        "plt.ylabel('Frequency',size=18)\n",
        "plt.show()\n",
        "\n",
        "\n",
        "\n",
        "#Most houses have a life span of over 400 years"
      ],
      "execution_count": 674,
      "outputs": [
        {
          "output_type": "display_data",
          "data": {
            "image/png": "[encoded data removed]",
            "text/plain": [
              "<Figure size 576x432 with 1 Axes>"
            ]
          },
          "metadata": {
            "tags": [],
            "needs_background": "light"
          }
        }
      ]
    },
    {
      "cell_type": "code",
      "metadata": {
        "id": "d_BrqKZqtz_E",
        "colab": {
          "base_uri": "https://localhost:8080/",
          "height": 287
        },
        "outputId": "9075dc1c-7da7-4490-8303-2104b75f4f8b"
      },
      "source": [
        "#Summary of descriptive statistics for our numerical columns\n",
        "#\n",
        "\n",
        "df[['price','sqft_living','sqft_lot','sqft_above','sqft_basement','sqft_living15','sqft_lot15']].describe()"
      ],
      "execution_count": 675,
      "outputs": [
        {
          "output_type": "execute_result",
          "data": {
            "text/html": [
              "<div>\n",
              "<style scoped>\n",
              "    .dataframe tbody tr th:only-of-type {\n",
              "        vertical-align: middle;\n",
              "    }\n",
              "\n",
              "    .dataframe tbody tr th {\n",
              "        vertical-align: top;\n",
              "    }\n",
              "\n",
              "    .dataframe thead th {\n",
              "        text-align: right;\n",
              "    }\n",
              "</style>\n",
              "<table border=\"1\" class=\"dataframe\">\n",
              "  <thead>\n",
              "    <tr style=\"text-align: right;\">\n",
              "      <th></th>\n",
              "      <th>price</th>\n",
              "      <th>sqft_living</th>\n",
              "      <th>sqft_lot</th>\n",
              "      <th>sqft_above</th>\n",
              "      <th>sqft_basement</th>\n",
              "      <th>sqft_living15</th>\n",
              "      <th>sqft_lot15</th>\n",
              "    </tr>\n",
              "  </thead>\n",
              "  <tbody>\n",
              "    <tr>\n",
              "      <th>count</th>\n",
              "      <td>2.160700e+04</td>\n",
              "      <td>21607.000000</td>\n",
              "      <td>2.160700e+04</td>\n",
              "      <td>21607.000000</td>\n",
              "      <td>21607.000000</td>\n",
              "      <td>21607.000000</td>\n",
              "      <td>21607.000000</td>\n",
              "    </tr>\n",
              "    <tr>\n",
              "      <th>mean</th>\n",
              "      <td>5.402008e+05</td>\n",
              "      <td>2079.954783</td>\n",
              "      <td>1.511019e+04</td>\n",
              "      <td>1788.397186</td>\n",
              "      <td>291.557597</td>\n",
              "      <td>1986.591799</td>\n",
              "      <td>12770.571991</td>\n",
              "    </tr>\n",
              "    <tr>\n",
              "      <th>std</th>\n",
              "      <td>3.674061e+05</td>\n",
              "      <td>918.526856</td>\n",
              "      <td>4.142579e+04</td>\n",
              "      <td>828.156250</td>\n",
              "      <td>442.618358</td>\n",
              "      <td>685.436161</td>\n",
              "      <td>27307.553760</td>\n",
              "    </tr>\n",
              "    <tr>\n",
              "      <th>min</th>\n",
              "      <td>7.500000e+04</td>\n",
              "      <td>290.000000</td>\n",
              "      <td>5.200000e+02</td>\n",
              "      <td>290.000000</td>\n",
              "      <td>0.000000</td>\n",
              "      <td>399.000000</td>\n",
              "      <td>651.000000</td>\n",
              "    </tr>\n",
              "    <tr>\n",
              "      <th>25%</th>\n",
              "      <td>3.217250e+05</td>\n",
              "      <td>1428.500000</td>\n",
              "      <td>5.040000e+03</td>\n",
              "      <td>1190.000000</td>\n",
              "      <td>0.000000</td>\n",
              "      <td>1490.000000</td>\n",
              "      <td>5100.000000</td>\n",
              "    </tr>\n",
              "    <tr>\n",
              "      <th>50%</th>\n",
              "      <td>4.500000e+05</td>\n",
              "      <td>1910.000000</td>\n",
              "      <td>7.620000e+03</td>\n",
              "      <td>1560.000000</td>\n",
              "      <td>0.000000</td>\n",
              "      <td>1840.000000</td>\n",
              "      <td>7620.000000</td>\n",
              "    </tr>\n",
              "    <tr>\n",
              "      <th>75%</th>\n",
              "      <td>6.450000e+05</td>\n",
              "      <td>2550.000000</td>\n",
              "      <td>1.069200e+04</td>\n",
              "      <td>2210.000000</td>\n",
              "      <td>560.000000</td>\n",
              "      <td>2360.000000</td>\n",
              "      <td>10083.500000</td>\n",
              "    </tr>\n",
              "    <tr>\n",
              "      <th>max</th>\n",
              "      <td>7.700000e+06</td>\n",
              "      <td>13540.000000</td>\n",
              "      <td>1.651359e+06</td>\n",
              "      <td>9410.000000</td>\n",
              "      <td>4820.000000</td>\n",
              "      <td>6210.000000</td>\n",
              "      <td>871200.000000</td>\n",
              "    </tr>\n",
              "  </tbody>\n",
              "</table>\n",
              "</div>"
            ],
            "text/plain": [
              "              price   sqft_living  ...  sqft_living15     sqft_lot15\n",
              "count  2.160700e+04  21607.000000  ...   21607.000000   21607.000000\n",
              "mean   5.402008e+05   2079.954783  ...    1986.591799   12770.571991\n",
              "std    3.674061e+05    918.526856  ...     685.436161   27307.553760\n",
              "min    7.500000e+04    290.000000  ...     399.000000     651.000000\n",
              "25%    3.217250e+05   1428.500000  ...    1490.000000    5100.000000\n",
              "50%    4.500000e+05   1910.000000  ...    1840.000000    7620.000000\n",
              "75%    6.450000e+05   2550.000000  ...    2360.000000   10083.500000\n",
              "max    7.700000e+06  13540.000000  ...    6210.000000  871200.000000\n",
              "\n",
              "[8 rows x 7 columns]"
            ]
          },
          "metadata": {
            "tags": []
          },
          "execution_count": 675
        }
      ]
    },
    {
      "cell_type": "code",
      "metadata": {
        "id": "90jvw6lwzJ01",
        "colab": {
          "base_uri": "https://localhost:8080/",
          "height": 368
        },
        "outputId": "ceb33159-e838-4550-c9f6-7469817cb537"
      },
      "source": [
        "#Checking the distribution of price\n",
        "#\n",
        "\n",
        "sns.distplot(df['price'])\n",
        "plt.title('Distribution on house prices',size=14)\n",
        "\n",
        "#The distribution is skewed to the right"
      ],
      "execution_count": 676,
      "outputs": [
        {
          "output_type": "stream",
          "text": [
            "/usr/local/lib/python3.7/dist-packages/seaborn/distributions.py:2557: FutureWarning: `distplot` is a deprecated function and will be removed in a future version. Please adapt your code to use either `displot` (a figure-level function with similar flexibility) or `histplot` (an axes-level function for histograms).\n",
            "  warnings.warn(msg, FutureWarning)\n"
          ],
          "name": "stderr"
        },
        {
          "output_type": "execute_result",
          "data": {
            "text/plain": [
              "Text(0.5, 1.0, 'Distribution on house prices')"
            ]
          },
          "metadata": {
            "tags": []
          },
          "execution_count": 676
        },
        {
          "output_type": "display_data",
          "data": {
            "image/png": "[encoded data removed]",
            "text/plain": [
              "<Figure size 432x288 with 1 Axes>"
            ]
          },
          "metadata": {
            "tags": [],
            "needs_background": "light"
          }
        }
      ]
    },
    {
      "cell_type": "code",
      "metadata": {
        "colab": {
          "base_uri": "https://localhost:8080/",
          "height": 376
        },
        "id": "wfANsDg0V4Ry",
        "outputId": "35aeb9ff-0ed4-4e93-b74c-1009aa7cf1c9"
      },
      "source": [
        "#Pie chart on zip code popularity\n",
        "#\n",
        "\n",
        "df['zipcode'].value_counts().head(5).plot.pie(figsize=(8,6),autopct='%1.1f%%')\n",
        "\n",
        "plt.title('Top five popular zipcodes for house locations',size=18)\n",
        "plt.show()\n",
        "\n",
        "#Most houses zipcode is 98103"
      ],
      "execution_count": 677,
      "outputs": [
        {
          "output_type": "display_data",
          "data": {
            "image/png": "[encoded data removed]",
            "text/plain": [
              "<Figure size 576x432 with 1 Axes>"
            ]
          },
          "metadata": {
            "tags": []
          }
        }
      ]
    },
    {
      "cell_type": "code",
      "metadata": {
        "colab": {
          "base_uri": "https://localhost:8080/",
          "height": 414
        },
        "id": "nS5yIwD4TQ9K",
        "outputId": "fd98d3ad-5ab7-4404-c1fe-9f053f7848fe"
      },
      "source": [
        "#Pie chart on time it takes to renovate most years\n",
        "#\n",
        "\n",
        "df['year_adj'][df['year_adj']!=0].value_counts().head(5).plot.bar(figsize=(8,6),color='orange')\n",
        "\n",
        "plt.title('Top five common renovation time frames',size=18)\n",
        "plt.xlabel('Renovation time frame',size=12)\n",
        "plt.ylabel('Frequency',size=12)\n",
        "plt.show()\n",
        "\n",
        "#A majority of renovations are done 32 years later after the building of the houses"
      ],
      "execution_count": 678,
      "outputs": [
        {
          "output_type": "display_data",
          "data": {
            "image/png": "[encoded data removed]",
            "text/plain": [
              "<Figure size 576x432 with 1 Axes>"
            ]
          },
          "metadata": {
            "tags": [],
            "needs_background": "light"
          }
        }
      ]
    },
    {
      "cell_type": "code",
      "metadata": {
        "id": "rdRAdd5ITVWi"
      },
      "source": [
        ""
      ],
      "execution_count": 678,
      "outputs": []
    },
    {
      "cell_type": "markdown",
      "metadata": {
        "id": "9x3cMVL3WmmR"
      },
      "source": [
        "#4.b)Bivariate data analysis"
      ]
    },
    {
      "cell_type": "code",
      "metadata": {
        "colab": {
          "base_uri": "https://localhost:8080/",
          "height": 576
        },
        "id": "-nkg31_LWu2m",
        "outputId": "e232af02-cf23-4a8e-9514-7808c9e0c334"
      },
      "source": [
        "#Scatter plot to check the relationship between various variables\n",
        "\n",
        "#Scatter plot to check on relation between price and living area in square feet\n",
        "plt.scatter(df['price'],df['sqft_living'], color='Green')\n",
        "plt.title('Scatter plot on price and living area(sqr feet)',size=16,color='Green')\n",
        "plt.xlabel('price',size=10)\n",
        "plt.ylabel('Living area square feet',size=10)\n",
        "plt.show()\n",
        "\n",
        "##There seems to be a positive relation between price and living area(sqr feet)\n",
        "\n",
        "\n",
        "#Scatter plot to check on relation between price and square feet area of parking Layout\n",
        "plt.scatter(df['price'],df['sqft_lot'], color='purple')\n",
        "plt.title('Scatter plot on price and parking layout area(sqaure feet)',size=16,color='purple')\n",
        "plt.xlabel('price',size=10)\n",
        "plt.ylabel('Parking layout area square feet',size=10)\n",
        "plt.show()\n",
        "\n",
        "##There is no specific trend in the relationship between price and square feet area of parkng layout\n"
      ],
      "execution_count": 679,
      "outputs": [
        {
          "output_type": "display_data",
          "data": {
            "image/png": "[encoded data removed]",
            "text/plain": [
              "<Figure size 432x288 with 1 Axes>"
            ]
          },
          "metadata": {
            "tags": [],
            "needs_background": "light"
          }
        },
        {
          "output_type": "display_data",
          "data": {
            "image/png": "[encoded data removed]",
            "text/plain": [
              "<Figure size 432x288 with 1 Axes>"
            ]
          },
          "metadata": {
            "tags": [],
            "needs_background": "light"
          }
        }
      ]
    },
    {
      "cell_type": "code",
      "metadata": {
        "colab": {
          "base_uri": "https://localhost:8080/",
          "height": 495
        },
        "id": "Rk2QRlJ-Za6x",
        "outputId": "2a8d8044-1910-44b1-b3a2-fa51e20eaa89"
      },
      "source": [
        "#Creating the correlation heatmap\n",
        "#to check the relationship among number of differents variables\n",
        "\n",
        "variables = ['price','sqft_living','sqft_lot','grade','sqft_above','sqft_basement','sqft_living15','sqft_lot15']\n",
        "\n",
        "\n",
        "fig, ax = plt.subplots(figsize=(7,7))        \n",
        "sns.heatmap(df[variables].corr(),annot=True,ax=ax)\n",
        "plt.show()\n"
      ],
      "execution_count": 680,
      "outputs": [
        {
          "output_type": "display_data",
          "data": {
            "image/png": "[encoded data removed]",
            "text/plain": [
              "<Figure size 504x504 with 2 Axes>"
            ]
          },
          "metadata": {
            "tags": [],
            "needs_background": "light"
          }
        }
      ]
    },
    {
      "cell_type": "code",
      "metadata": {
        "id": "o7agA0ZQcN8f",
        "colab": {
          "base_uri": "https://localhost:8080/",
          "height": 431
        },
        "outputId": "e0b07db8-27cf-4d85-c642-756d07418b68"
      },
      "source": [
        "#Bar graph on sum of price per grade\n",
        "\n",
        "#First grouping the dataframe by the two variables\n",
        "Grade = df.groupby(['grade'])['price'].sum()\n",
        "\n",
        "#Plotting our bar graph \n",
        "Grade.sort_values(ascending=False).plot(kind='bar',figsize=(8,6))\n",
        "\n",
        "# labels and title\n",
        "plt.title('Sum of price per grade',fontsize=16)\n",
        "plt.xlabel('grade level',fontsize=14)\n",
        "plt.ylabel('Total price',fontsize=14)\n",
        "\n",
        "\n",
        "#Grade 7 and 8 have the highest sum of prices"
      ],
      "execution_count": 681,
      "outputs": [
        {
          "output_type": "execute_result",
          "data": {
            "text/plain": [
              "Text(0, 0.5, 'Total price')"
            ]
          },
          "metadata": {
            "tags": []
          },
          "execution_count": 681
        },
        {
          "output_type": "display_data",
          "data": {
            "image/png": "[encoded data removed]",
            "text/plain": [
              "<Figure size 576x432 with 1 Axes>"
            ]
          },
          "metadata": {
            "tags": [],
            "needs_background": "light"
          }
        }
      ]
    },
    {
      "cell_type": "code",
      "metadata": {
        "colab": {
          "base_uri": "https://localhost:8080/"
        },
        "id": "kH_oB5g4h0on",
        "outputId": "cf3b37b1-7dbb-405a-fca0-c79b77a85aa8"
      },
      "source": [
        "#Bedroom categories with their sum of prices\n",
        "\n",
        "Bed = df.groupby(['bedrooms'])['price'].sum()\n",
        "Bed\n",
        "\n",
        "#Houses with three and four bedrooms have the highest prices"
      ],
      "execution_count": 682,
      "outputs": [
        {
          "output_type": "execute_result",
          "data": {
            "text/plain": [
              "bedrooms\n",
              "0     5.332900e+06\n",
              "1     6.321393e+07\n",
              "2     1.107570e+09\n",
              "3     4.579032e+09\n",
              "4     4.373406e+09\n",
              "5     1.259426e+09\n",
              "6     2.246322e+08\n",
              "7     3.615502e+07\n",
              "8     1.436600e+07\n",
              "9     5.363999e+06\n",
              "10    2.460000e+06\n",
              "11    5.200000e+05\n",
              "33    6.400000e+05\n",
              "Name: price, dtype: float64"
            ]
          },
          "metadata": {
            "tags": []
          },
          "execution_count": 682
        }
      ]
    },
    {
      "cell_type": "code",
      "metadata": {
        "colab": {
          "base_uri": "https://localhost:8080/",
          "height": 427
        },
        "id": "z7gKhkIPhrwg",
        "outputId": "53753e1a-d74f-429b-d597-04f8a3e31702"
      },
      "source": [
        "#Side by side graph on sum of price per number of bedrooms categories\n",
        "\n",
        "#Plotting our bar graph \n",
        "\n",
        "Bed.sort_values(ascending=False).plot.barh(figsize=(8,6))\n",
        "\n",
        "# labels and title\n",
        "plt.title('Sum of price per number of bedrooms',fontsize=16)\n",
        "plt.xlabel('number of bedrooms',fontsize=14)\n",
        "plt.ylabel('Total price',fontsize=14)\n",
        "\n",
        "\n",
        "#Houses with three and four bedrooms have the highest prices"
      ],
      "execution_count": 683,
      "outputs": [
        {
          "output_type": "execute_result",
          "data": {
            "text/plain": [
              "Text(0, 0.5, 'Total price')"
            ]
          },
          "metadata": {
            "tags": []
          },
          "execution_count": 683
        },
        {
          "output_type": "display_data",
          "data": {
            "image/png": "[encoded data removed]",
            "text/plain": [
              "<Figure size 576x432 with 1 Axes>"
            ]
          },
          "metadata": {
            "tags": [],
            "needs_background": "light"
          }
        }
      ]
    },
    {
      "cell_type": "markdown",
      "metadata": {
        "id": "FERQTberi4wL"
      },
      "source": [
        "#5. Multicollinearity"
      ]
    },
    {
      "cell_type": "code",
      "metadata": {
        "id": "zSHzXQvEjX4h",
        "colab": {
          "base_uri": "https://localhost:8080/",
          "height": 517
        },
        "outputId": "c7939d96-6426-4389-f6c0-65405512bad9"
      },
      "source": [
        "#Creating dataframe of variables of interest\n",
        "#\n",
        "Ind_variables =df[['price','bedrooms','bathrooms','sqft_living','sqft_lot','floors',\n",
        "                           'waterfront','view','condition','grade','sqft_above',\n",
        "                           'sqft_basement','sqft_living15','sqft_lot15','year_adj']]\n",
        "\n",
        "# Let's display the correlations between the variables\n",
        "correlations = Ind_variables.corr()\n",
        "\n",
        "correlations"
      ],
      "execution_count": 684,
      "outputs": [
        {
          "output_type": "execute_result",
          "data": {
            "text/html": [
              "<div>\n",
              "<style scoped>\n",
              "    .dataframe tbody tr th:only-of-type {\n",
              "        vertical-align: middle;\n",
              "    }\n",
              "\n",
              "    .dataframe tbody tr th {\n",
              "        vertical-align: top;\n",
              "    }\n",
              "\n",
              "    .dataframe thead th {\n",
              "        text-align: right;\n",
              "    }\n",
              "</style>\n",
              "<table border=\"1\" class=\"dataframe\">\n",
              "  <thead>\n",
              "    <tr style=\"text-align: right;\">\n",
              "      <th></th>\n",
              "      <th>price</th>\n",
              "      <th>bedrooms</th>\n",
              "      <th>bathrooms</th>\n",
              "      <th>sqft_living</th>\n",
              "      <th>sqft_lot</th>\n",
              "      <th>floors</th>\n",
              "      <th>waterfront</th>\n",
              "      <th>view</th>\n",
              "      <th>condition</th>\n",
              "      <th>grade</th>\n",
              "      <th>sqft_above</th>\n",
              "      <th>sqft_basement</th>\n",
              "      <th>sqft_living15</th>\n",
              "      <th>sqft_lot15</th>\n",
              "      <th>year_adj</th>\n",
              "    </tr>\n",
              "  </thead>\n",
              "  <tbody>\n",
              "    <tr>\n",
              "      <th>price</th>\n",
              "      <td>1.000000</td>\n",
              "      <td>0.308378</td>\n",
              "      <td>0.525160</td>\n",
              "      <td>0.702050</td>\n",
              "      <td>0.089641</td>\n",
              "      <td>0.256913</td>\n",
              "      <td>0.266332</td>\n",
              "      <td>0.397458</td>\n",
              "      <td>0.036361</td>\n",
              "      <td>0.667581</td>\n",
              "      <td>0.605574</td>\n",
              "      <td>0.323851</td>\n",
              "      <td>0.585371</td>\n",
              "      <td>0.082436</td>\n",
              "      <td>0.118143</td>\n",
              "    </tr>\n",
              "    <tr>\n",
              "      <th>bedrooms</th>\n",
              "      <td>0.308378</td>\n",
              "      <td>1.000000</td>\n",
              "      <td>0.515955</td>\n",
              "      <td>0.576673</td>\n",
              "      <td>0.031697</td>\n",
              "      <td>0.175548</td>\n",
              "      <td>-0.006584</td>\n",
              "      <td>0.079442</td>\n",
              "      <td>0.028423</td>\n",
              "      <td>0.357145</td>\n",
              "      <td>0.477568</td>\n",
              "      <td>0.303171</td>\n",
              "      <td>0.391621</td>\n",
              "      <td>0.029229</td>\n",
              "      <td>0.019228</td>\n",
              "    </tr>\n",
              "    <tr>\n",
              "      <th>bathrooms</th>\n",
              "      <td>0.525160</td>\n",
              "      <td>0.515955</td>\n",
              "      <td>1.000000</td>\n",
              "      <td>0.754720</td>\n",
              "      <td>0.087759</td>\n",
              "      <td>0.500745</td>\n",
              "      <td>0.063749</td>\n",
              "      <td>0.187901</td>\n",
              "      <td>-0.124929</td>\n",
              "      <td>0.665028</td>\n",
              "      <td>0.685373</td>\n",
              "      <td>0.283843</td>\n",
              "      <td>0.568703</td>\n",
              "      <td>0.087202</td>\n",
              "      <td>0.049497</td>\n",
              "    </tr>\n",
              "    <tr>\n",
              "      <th>sqft_living</th>\n",
              "      <td>0.702050</td>\n",
              "      <td>0.576673</td>\n",
              "      <td>0.754720</td>\n",
              "      <td>1.000000</td>\n",
              "      <td>0.172811</td>\n",
              "      <td>0.354184</td>\n",
              "      <td>0.103817</td>\n",
              "      <td>0.284630</td>\n",
              "      <td>-0.058822</td>\n",
              "      <td>0.762893</td>\n",
              "      <td>0.876595</td>\n",
              "      <td>0.435068</td>\n",
              "      <td>0.756401</td>\n",
              "      <td>0.183260</td>\n",
              "      <td>0.045254</td>\n",
              "    </tr>\n",
              "    <tr>\n",
              "      <th>sqft_lot</th>\n",
              "      <td>0.089641</td>\n",
              "      <td>0.031697</td>\n",
              "      <td>0.087759</td>\n",
              "      <td>0.172811</td>\n",
              "      <td>1.000000</td>\n",
              "      <td>-0.005100</td>\n",
              "      <td>0.021597</td>\n",
              "      <td>0.074740</td>\n",
              "      <td>-0.008996</td>\n",
              "      <td>0.113693</td>\n",
              "      <td>0.183515</td>\n",
              "      <td>0.015254</td>\n",
              "      <td>0.144593</td>\n",
              "      <td>0.718551</td>\n",
              "      <td>-0.002818</td>\n",
              "    </tr>\n",
              "    <tr>\n",
              "      <th>floors</th>\n",
              "      <td>0.256913</td>\n",
              "      <td>0.175548</td>\n",
              "      <td>0.500745</td>\n",
              "      <td>0.354184</td>\n",
              "      <td>-0.005100</td>\n",
              "      <td>1.000000</td>\n",
              "      <td>0.023735</td>\n",
              "      <td>0.029397</td>\n",
              "      <td>-0.263708</td>\n",
              "      <td>0.458071</td>\n",
              "      <td>0.524110</td>\n",
              "      <td>-0.245625</td>\n",
              "      <td>0.280098</td>\n",
              "      <td>-0.011164</td>\n",
              "      <td>0.014988</td>\n",
              "    </tr>\n",
              "    <tr>\n",
              "      <th>waterfront</th>\n",
              "      <td>0.266332</td>\n",
              "      <td>-0.006584</td>\n",
              "      <td>0.063749</td>\n",
              "      <td>0.103817</td>\n",
              "      <td>0.021597</td>\n",
              "      <td>0.023735</td>\n",
              "      <td>1.000000</td>\n",
              "      <td>0.401992</td>\n",
              "      <td>0.016645</td>\n",
              "      <td>0.082800</td>\n",
              "      <td>0.072078</td>\n",
              "      <td>0.080582</td>\n",
              "      <td>0.086465</td>\n",
              "      <td>0.030697</td>\n",
              "      <td>0.060948</td>\n",
              "    </tr>\n",
              "    <tr>\n",
              "      <th>view</th>\n",
              "      <td>0.397458</td>\n",
              "      <td>0.079442</td>\n",
              "      <td>0.187901</td>\n",
              "      <td>0.284630</td>\n",
              "      <td>0.074740</td>\n",
              "      <td>0.029397</td>\n",
              "      <td>0.401992</td>\n",
              "      <td>1.000000</td>\n",
              "      <td>0.045811</td>\n",
              "      <td>0.251431</td>\n",
              "      <td>0.167650</td>\n",
              "      <td>0.276987</td>\n",
              "      <td>0.280389</td>\n",
              "      <td>0.072561</td>\n",
              "      <td>0.083907</td>\n",
              "    </tr>\n",
              "    <tr>\n",
              "      <th>condition</th>\n",
              "      <td>0.036361</td>\n",
              "      <td>0.028423</td>\n",
              "      <td>-0.124929</td>\n",
              "      <td>-0.058822</td>\n",
              "      <td>-0.008996</td>\n",
              "      <td>-0.263708</td>\n",
              "      <td>0.016645</td>\n",
              "      <td>0.045811</td>\n",
              "      <td>1.000000</td>\n",
              "      <td>-0.144592</td>\n",
              "      <td>-0.158262</td>\n",
              "      <td>0.174045</td>\n",
              "      <td>-0.092929</td>\n",
              "      <td>-0.003460</td>\n",
              "      <td>-0.065064</td>\n",
              "    </tr>\n",
              "    <tr>\n",
              "      <th>grade</th>\n",
              "      <td>0.667581</td>\n",
              "      <td>0.357145</td>\n",
              "      <td>0.665028</td>\n",
              "      <td>0.762893</td>\n",
              "      <td>0.113693</td>\n",
              "      <td>0.458071</td>\n",
              "      <td>0.082800</td>\n",
              "      <td>0.251431</td>\n",
              "      <td>-0.144592</td>\n",
              "      <td>1.000000</td>\n",
              "      <td>0.756089</td>\n",
              "      <td>0.168494</td>\n",
              "      <td>0.713403</td>\n",
              "      <td>0.119324</td>\n",
              "      <td>0.011746</td>\n",
              "    </tr>\n",
              "    <tr>\n",
              "      <th>sqft_above</th>\n",
              "      <td>0.605574</td>\n",
              "      <td>0.477568</td>\n",
              "      <td>0.685373</td>\n",
              "      <td>0.876595</td>\n",
              "      <td>0.183515</td>\n",
              "      <td>0.524110</td>\n",
              "      <td>0.072078</td>\n",
              "      <td>0.167650</td>\n",
              "      <td>-0.158262</td>\n",
              "      <td>0.756089</td>\n",
              "      <td>1.000000</td>\n",
              "      <td>-0.051919</td>\n",
              "      <td>0.731856</td>\n",
              "      <td>0.194044</td>\n",
              "      <td>0.008498</td>\n",
              "    </tr>\n",
              "    <tr>\n",
              "      <th>sqft_basement</th>\n",
              "      <td>0.323851</td>\n",
              "      <td>0.303171</td>\n",
              "      <td>0.283843</td>\n",
              "      <td>0.435068</td>\n",
              "      <td>0.015254</td>\n",
              "      <td>-0.245625</td>\n",
              "      <td>0.080582</td>\n",
              "      <td>0.276987</td>\n",
              "      <td>0.174045</td>\n",
              "      <td>0.168494</td>\n",
              "      <td>-0.051919</td>\n",
              "      <td>1.000000</td>\n",
              "      <td>0.200361</td>\n",
              "      <td>0.017239</td>\n",
              "      <td>0.078012</td>\n",
              "    </tr>\n",
              "    <tr>\n",
              "      <th>sqft_living15</th>\n",
              "      <td>0.585371</td>\n",
              "      <td>0.391621</td>\n",
              "      <td>0.568703</td>\n",
              "      <td>0.756401</td>\n",
              "      <td>0.144593</td>\n",
              "      <td>0.280098</td>\n",
              "      <td>0.086465</td>\n",
              "      <td>0.280389</td>\n",
              "      <td>-0.092929</td>\n",
              "      <td>0.713403</td>\n",
              "      <td>0.731856</td>\n",
              "      <td>0.200361</td>\n",
              "      <td>1.000000</td>\n",
              "      <td>0.183161</td>\n",
              "      <td>-0.018945</td>\n",
              "    </tr>\n",
              "    <tr>\n",
              "      <th>sqft_lot15</th>\n",
              "      <td>0.082436</td>\n",
              "      <td>0.029229</td>\n",
              "      <td>0.087202</td>\n",
              "      <td>0.183260</td>\n",
              "      <td>0.718551</td>\n",
              "      <td>-0.011164</td>\n",
              "      <td>0.030697</td>\n",
              "      <td>0.072561</td>\n",
              "      <td>-0.003460</td>\n",
              "      <td>0.119324</td>\n",
              "      <td>0.194044</td>\n",
              "      <td>0.017239</td>\n",
              "      <td>0.183161</td>\n",
              "      <td>1.000000</td>\n",
              "      <td>-0.005004</td>\n",
              "    </tr>\n",
              "    <tr>\n",
              "      <th>year_adj</th>\n",
              "      <td>0.118143</td>\n",
              "      <td>0.019228</td>\n",
              "      <td>0.049497</td>\n",
              "      <td>0.045254</td>\n",
              "      <td>-0.002818</td>\n",
              "      <td>0.014988</td>\n",
              "      <td>0.060948</td>\n",
              "      <td>0.083907</td>\n",
              "      <td>-0.065064</td>\n",
              "      <td>0.011746</td>\n",
              "      <td>0.008498</td>\n",
              "      <td>0.078012</td>\n",
              "      <td>-0.018945</td>\n",
              "      <td>-0.005004</td>\n",
              "      <td>1.000000</td>\n",
              "    </tr>\n",
              "  </tbody>\n",
              "</table>\n",
              "</div>"
            ],
            "text/plain": [
              "                  price  bedrooms  ...  sqft_lot15  year_adj\n",
              "price          1.000000  0.308378  ...    0.082436  0.118143\n",
              "bedrooms       0.308378  1.000000  ...    0.029229  0.019228\n",
              "bathrooms      0.525160  0.515955  ...    0.087202  0.049497\n",
              "sqft_living    0.702050  0.576673  ...    0.183260  0.045254\n",
              "sqft_lot       0.089641  0.031697  ...    0.718551 -0.002818\n",
              "floors         0.256913  0.175548  ...   -0.011164  0.014988\n",
              "waterfront     0.266332 -0.006584  ...    0.030697  0.060948\n",
              "view           0.397458  0.079442  ...    0.072561  0.083907\n",
              "condition      0.036361  0.028423  ...   -0.003460 -0.065064\n",
              "grade          0.667581  0.357145  ...    0.119324  0.011746\n",
              "sqft_above     0.605574  0.477568  ...    0.194044  0.008498\n",
              "sqft_basement  0.323851  0.303171  ...    0.017239  0.078012\n",
              "sqft_living15  0.585371  0.391621  ...    0.183161 -0.018945\n",
              "sqft_lot15     0.082436  0.029229  ...    1.000000 -0.005004\n",
              "year_adj       0.118143  0.019228  ...   -0.005004  1.000000\n",
              "\n",
              "[15 rows x 15 columns]"
            ]
          },
          "metadata": {
            "tags": []
          },
          "execution_count": 684
        }
      ]
    },
    {
      "cell_type": "markdown",
      "metadata": {
        "id": "TOSAtmsl7pR9"
      },
      "source": [
        "There is a mix on the degree of the relationship among our variables from negative,no to positive relationship among them.Though a majority of them have a degree of relationship among them with a number having an approximately moderate relationship among them.\n",
        "\n",
        "Some of the variables that have a **moderate** positive relationship among them are:\n",
        "\n",
        "1.Price and bathrooms with:square feet area of living,grade,square feet above.\n",
        "\n",
        "2.Grade and square feet area of living and above.\n",
        "\n",
        "The two variables that exhibit a fairly **strong** positive relationship between them(correlation of above 0.8) are square feet area of living area and above."
      ]
    },
    {
      "cell_type": "code",
      "metadata": {
        "id": "HLobe14pmhQu",
        "colab": {
          "base_uri": "https://localhost:8080/",
          "height": 517
        },
        "outputId": "7180d21b-8852-49f4-b3d2-1a53c330705b"
      },
      "source": [
        "#Checking VIF scores\n",
        "#\n",
        "pd.DataFrame(np.linalg.inv(correlations.values), index = correlations.index, columns=correlations.columns)"
      ],
      "execution_count": 685,
      "outputs": [
        {
          "output_type": "execute_result",
          "data": {
            "text/html": [
              "<div>\n",
              "<style scoped>\n",
              "    .dataframe tbody tr th:only-of-type {\n",
              "        vertical-align: middle;\n",
              "    }\n",
              "\n",
              "    .dataframe tbody tr th {\n",
              "        vertical-align: top;\n",
              "    }\n",
              "\n",
              "    .dataframe thead th {\n",
              "        text-align: right;\n",
              "    }\n",
              "</style>\n",
              "<table border=\"1\" class=\"dataframe\">\n",
              "  <thead>\n",
              "    <tr style=\"text-align: right;\">\n",
              "      <th></th>\n",
              "      <th>price</th>\n",
              "      <th>bedrooms</th>\n",
              "      <th>bathrooms</th>\n",
              "      <th>sqft_living</th>\n",
              "      <th>sqft_lot</th>\n",
              "      <th>floors</th>\n",
              "      <th>waterfront</th>\n",
              "      <th>view</th>\n",
              "      <th>condition</th>\n",
              "      <th>grade</th>\n",
              "      <th>sqft_above</th>\n",
              "      <th>sqft_basement</th>\n",
              "      <th>sqft_living15</th>\n",
              "      <th>sqft_lot15</th>\n",
              "      <th>year_adj</th>\n",
              "    </tr>\n",
              "  </thead>\n",
              "  <tbody>\n",
              "    <tr>\n",
              "      <th>price</th>\n",
              "      <td>2.589976</td>\n",
              "      <td>0.224623</td>\n",
              "      <td>0.088667</td>\n",
              "      <td>-1.821191e+00</td>\n",
              "      <td>-0.009264</td>\n",
              "      <td>0.012560</td>\n",
              "      <td>-0.350499</td>\n",
              "      <td>-0.308515</td>\n",
              "      <td>-0.265064</td>\n",
              "      <td>-0.843488</td>\n",
              "      <td>5.706206e-01</td>\n",
              "      <td>2.258867e-01</td>\n",
              "      <td>-0.078799</td>\n",
              "      <td>0.144274</td>\n",
              "      <td>-0.215782</td>\n",
              "    </tr>\n",
              "    <tr>\n",
              "      <th>bedrooms</th>\n",
              "      <td>0.224623</td>\n",
              "      <td>1.659196</td>\n",
              "      <td>-0.410789</td>\n",
              "      <td>-1.460032e+00</td>\n",
              "      <td>0.042541</td>\n",
              "      <td>0.085400</td>\n",
              "      <td>0.032700</td>\n",
              "      <td>0.082173</td>\n",
              "      <td>-0.110226</td>\n",
              "      <td>0.270782</td>\n",
              "      <td>3.220174e-01</td>\n",
              "      <td>1.575834e-01</td>\n",
              "      <td>0.010906</td>\n",
              "      <td>0.099659</td>\n",
              "      <td>-0.006797</td>\n",
              "    </tr>\n",
              "    <tr>\n",
              "      <th>bathrooms</th>\n",
              "      <td>0.088667</td>\n",
              "      <td>-0.410789</td>\n",
              "      <td>2.933856</td>\n",
              "      <td>-1.441842e+00</td>\n",
              "      <td>-0.007602</td>\n",
              "      <td>-0.817843</td>\n",
              "      <td>-0.013659</td>\n",
              "      <td>0.040298</td>\n",
              "      <td>0.069727</td>\n",
              "      <td>-0.497322</td>\n",
              "      <td>1.632016e-01</td>\n",
              "      <td>-2.460167e-01</td>\n",
              "      <td>0.036372</td>\n",
              "      <td>0.032472</td>\n",
              "      <td>-0.043899</td>\n",
              "    </tr>\n",
              "    <tr>\n",
              "      <th>sqft_living</th>\n",
              "      <td>-1.820568</td>\n",
              "      <td>-1.459669</td>\n",
              "      <td>-1.441906</td>\n",
              "      <td>2.388427e+13</td>\n",
              "      <td>-0.132795</td>\n",
              "      <td>0.990398</td>\n",
              "      <td>-0.341583</td>\n",
              "      <td>0.490752</td>\n",
              "      <td>-0.103945</td>\n",
              "      <td>0.369597</td>\n",
              "      <td>-2.153439e+13</td>\n",
              "      <td>-1.150932e+13</td>\n",
              "      <td>-1.251763</td>\n",
              "      <td>-0.092333</td>\n",
              "      <td>0.004191</td>\n",
              "    </tr>\n",
              "    <tr>\n",
              "      <th>sqft_lot</th>\n",
              "      <td>-0.009264</td>\n",
              "      <td>0.042541</td>\n",
              "      <td>-0.007602</td>\n",
              "      <td>-1.326809e-01</td>\n",
              "      <td>2.087793</td>\n",
              "      <td>0.077956</td>\n",
              "      <td>0.029933</td>\n",
              "      <td>-0.053494</td>\n",
              "      <td>0.014053</td>\n",
              "      <td>0.001922</td>\n",
              "      <td>-1.161663e-01</td>\n",
              "      <td>3.978244e-02</td>\n",
              "      <td>0.129259</td>\n",
              "      <td>-1.473805</td>\n",
              "      <td>0.007887</td>\n",
              "    </tr>\n",
              "    <tr>\n",
              "      <th>floors</th>\n",
              "      <td>0.012560</td>\n",
              "      <td>0.085400</td>\n",
              "      <td>-0.817843</td>\n",
              "      <td>9.915867e-01</td>\n",
              "      <td>0.077956</td>\n",
              "      <td>1.886671</td>\n",
              "      <td>-0.007838</td>\n",
              "      <td>-0.032853</td>\n",
              "      <td>0.200602</td>\n",
              "      <td>-0.390252</td>\n",
              "      <td>-1.283003e+00</td>\n",
              "      <td>1.385048e-01</td>\n",
              "      <td>0.337231</td>\n",
              "      <td>0.085869</td>\n",
              "      <td>-0.007785</td>\n",
              "    </tr>\n",
              "    <tr>\n",
              "      <th>waterfront</th>\n",
              "      <td>-0.350499</td>\n",
              "      <td>0.032700</td>\n",
              "      <td>-0.013659</td>\n",
              "      <td>-3.416372e-01</td>\n",
              "      <td>0.029933</td>\n",
              "      <td>-0.007838</td>\n",
              "      <td>1.247859</td>\n",
              "      <td>-0.452230</td>\n",
              "      <td>0.027993</td>\n",
              "      <td>0.159975</td>\n",
              "      <td>3.434248e-01</td>\n",
              "      <td>2.514970e-01</td>\n",
              "      <td>0.069032</td>\n",
              "      <td>-0.037960</td>\n",
              "      <td>-0.002465</td>\n",
              "    </tr>\n",
              "    <tr>\n",
              "      <th>view</th>\n",
              "      <td>-0.308515</td>\n",
              "      <td>0.082173</td>\n",
              "      <td>0.040298</td>\n",
              "      <td>4.902377e-01</td>\n",
              "      <td>-0.053494</td>\n",
              "      <td>-0.032853</td>\n",
              "      <td>-0.452230</td>\n",
              "      <td>1.420102</td>\n",
              "      <td>-0.022840</td>\n",
              "      <td>-0.042760</td>\n",
              "      <td>-3.049984e-01</td>\n",
              "      <td>-4.662674e-01</td>\n",
              "      <td>-0.242589</td>\n",
              "      <td>-0.005015</td>\n",
              "      <td>-0.047212</td>\n",
              "    </tr>\n",
              "    <tr>\n",
              "      <th>condition</th>\n",
              "      <td>-0.265064</td>\n",
              "      <td>-0.110226</td>\n",
              "      <td>0.069727</td>\n",
              "      <td>-1.034316e-01</td>\n",
              "      <td>0.014053</td>\n",
              "      <td>0.200602</td>\n",
              "      <td>0.027993</td>\n",
              "      <td>-0.022840</td>\n",
              "      <td>1.138226</td>\n",
              "      <td>0.161523</td>\n",
              "      <td>1.553219e-01</td>\n",
              "      <td>-4.256614e-02</td>\n",
              "      <td>0.075060</td>\n",
              "      <td>-0.027067</td>\n",
              "      <td>0.107358</td>\n",
              "    </tr>\n",
              "    <tr>\n",
              "      <th>grade</th>\n",
              "      <td>-0.843488</td>\n",
              "      <td>0.270782</td>\n",
              "      <td>-0.497322</td>\n",
              "      <td>3.726295e-01</td>\n",
              "      <td>0.001922</td>\n",
              "      <td>-0.390252</td>\n",
              "      <td>0.159975</td>\n",
              "      <td>-0.042760</td>\n",
              "      <td>0.161523</td>\n",
              "      <td>3.430866</td>\n",
              "      <td>-1.399634e+00</td>\n",
              "      <td>-4.483665e-01</td>\n",
              "      <td>-0.830028</td>\n",
              "      <td>0.052225</td>\n",
              "      <td>0.103512</td>\n",
              "    </tr>\n",
              "    <tr>\n",
              "      <th>sqft_above</th>\n",
              "      <td>0.570530</td>\n",
              "      <td>0.322728</td>\n",
              "      <td>0.161730</td>\n",
              "      <td>-2.153439e+13</td>\n",
              "      <td>-0.116122</td>\n",
              "      <td>-1.282465</td>\n",
              "      <td>0.343310</td>\n",
              "      <td>-0.305258</td>\n",
              "      <td>0.155799</td>\n",
              "      <td>-1.397068</td>\n",
              "      <td>1.941569e+13</td>\n",
              "      <td>1.037696e+13</td>\n",
              "      <td>-0.425969</td>\n",
              "      <td>-0.172369</td>\n",
              "      <td>0.007029</td>\n",
              "    </tr>\n",
              "    <tr>\n",
              "      <th>sqft_basement</th>\n",
              "      <td>0.224975</td>\n",
              "      <td>0.157764</td>\n",
              "      <td>-0.244797</td>\n",
              "      <td>-1.150932e+13</td>\n",
              "      <td>0.039835</td>\n",
              "      <td>0.139062</td>\n",
              "      <td>0.251423</td>\n",
              "      <td>-0.466404</td>\n",
              "      <td>-0.042358</td>\n",
              "      <td>-0.446895</td>\n",
              "      <td>1.037696e+13</td>\n",
              "      <td>5.546093e+12</td>\n",
              "      <td>0.232473</td>\n",
              "      <td>-0.010869</td>\n",
              "      <td>-0.048801</td>\n",
              "    </tr>\n",
              "    <tr>\n",
              "      <th>sqft_living15</th>\n",
              "      <td>-0.078799</td>\n",
              "      <td>0.010906</td>\n",
              "      <td>0.036372</td>\n",
              "      <td>-1.245948e+00</td>\n",
              "      <td>0.129259</td>\n",
              "      <td>0.337231</td>\n",
              "      <td>0.069032</td>\n",
              "      <td>-0.242589</td>\n",
              "      <td>0.075060</td>\n",
              "      <td>-0.830028</td>\n",
              "      <td>-4.312125e-01</td>\n",
              "      <td>2.296701e-01</td>\n",
              "      <td>2.816312</td>\n",
              "      <td>-0.178475</td>\n",
              "      <td>0.127983</td>\n",
              "    </tr>\n",
              "    <tr>\n",
              "      <th>sqft_lot15</th>\n",
              "      <td>0.144274</td>\n",
              "      <td>0.099659</td>\n",
              "      <td>0.032472</td>\n",
              "      <td>-9.117684e-02</td>\n",
              "      <td>-1.473805</td>\n",
              "      <td>0.085869</td>\n",
              "      <td>-0.037960</td>\n",
              "      <td>-0.005015</td>\n",
              "      <td>-0.027067</td>\n",
              "      <td>0.052225</td>\n",
              "      <td>-1.734116e-01</td>\n",
              "      <td>-1.142579e-02</td>\n",
              "      <td>-0.178475</td>\n",
              "      <td>2.120714</td>\n",
              "      <td>-0.011927</td>\n",
              "    </tr>\n",
              "    <tr>\n",
              "      <th>year_adj</th>\n",
              "      <td>-0.215782</td>\n",
              "      <td>-0.006797</td>\n",
              "      <td>-0.043899</td>\n",
              "      <td>4.390329e-03</td>\n",
              "      <td>0.007887</td>\n",
              "      <td>-0.007785</td>\n",
              "      <td>-0.002465</td>\n",
              "      <td>-0.047212</td>\n",
              "      <td>0.107358</td>\n",
              "      <td>0.103512</td>\n",
              "      <td>6.849916e-03</td>\n",
              "      <td>-4.889663e-02</td>\n",
              "      <td>0.127983</td>\n",
              "      <td>-0.011927</td>\n",
              "      <td>1.043739</td>\n",
              "    </tr>\n",
              "  </tbody>\n",
              "</table>\n",
              "</div>"
            ],
            "text/plain": [
              "                  price  bedrooms  ...  sqft_lot15  year_adj\n",
              "price          2.589976  0.224623  ...    0.144274 -0.215782\n",
              "bedrooms       0.224623  1.659196  ...    0.099659 -0.006797\n",
              "bathrooms      0.088667 -0.410789  ...    0.032472 -0.043899\n",
              "sqft_living   -1.820568 -1.459669  ...   -0.092333  0.004191\n",
              "sqft_lot      -0.009264  0.042541  ...   -1.473805  0.007887\n",
              "floors         0.012560  0.085400  ...    0.085869 -0.007785\n",
              "waterfront    -0.350499  0.032700  ...   -0.037960 -0.002465\n",
              "view          -0.308515  0.082173  ...   -0.005015 -0.047212\n",
              "condition     -0.265064 -0.110226  ...   -0.027067  0.107358\n",
              "grade         -0.843488  0.270782  ...    0.052225  0.103512\n",
              "sqft_above     0.570530  0.322728  ...   -0.172369  0.007029\n",
              "sqft_basement  0.224975  0.157764  ...   -0.010869 -0.048801\n",
              "sqft_living15 -0.078799  0.010906  ...   -0.178475  0.127983\n",
              "sqft_lot15     0.144274  0.099659  ...    2.120714 -0.011927\n",
              "year_adj      -0.215782 -0.006797  ...   -0.011927  1.043739\n",
              "\n",
              "[15 rows x 15 columns]"
            ]
          },
          "metadata": {
            "tags": []
          },
          "execution_count": 685
        }
      ]
    },
    {
      "cell_type": "markdown",
      "metadata": {
        "id": "40UDU80F_OEa"
      },
      "source": [
        "Checking through the VIF scores of our parameters, most are between 1 and 5 thus indicating most variables are moderately correlated."
      ]
    },
    {
      "cell_type": "markdown",
      "metadata": {
        "id": "pNfn2Z1l_tn5"
      },
      "source": [
        "#6. Building the Model"
      ]
    },
    {
      "cell_type": "markdown",
      "metadata": {
        "id": "x_pJxBfs_-aJ"
      },
      "source": [
        "#6.a)Multiple Linear Regression Model"
      ]
    },
    {
      "cell_type": "code",
      "metadata": {
        "colab": {
          "base_uri": "https://localhost:8080/"
        },
        "id": "pPKE8N41i1eq",
        "outputId": "506d21dd-3d77-4519-c1bb-b8fe60247cd8"
      },
      "source": [
        "#Standardizing and normalising  the price column\n",
        "\n",
        "from sklearn.preprocessing import StandardScaler\n",
        "\n",
        "price_scaled = StandardScaler().fit_transform(df['price'][:,np.newaxis]);\n",
        "low_range = price_scaled[price_scaled[:,0].argsort()][:10]\n",
        "high_range= price_scaled[price_scaled[:,0].argsort()][-10:]\n",
        "print('outer range (low) of the distribution:')\n",
        "print(low_range)\n",
        "print('\\nouter range (high) of the distribution:')\n",
        "print(high_range)\n",
        "\n",
        "#applying log transformation\n",
        "df['price'] = np.log(df['price'])\n",
        "\n",
        "#transformed histogram and normal probability plot\n",
        "from scipy.stats import norm\n",
        "from scipy import stats\n",
        "\n",
        "df['sqft_living'] = np.log(df['sqft_living'])\n"
      ],
      "execution_count": 686,
      "outputs": [
        {
          "output_type": "stream",
          "text": [
            "outer range (low) of the distribution:\n",
            "[[-1.26620527]\n",
            " [-1.25803973]\n",
            " [-1.25259603]\n",
            " [-1.24987418]\n",
            " [-1.24715234]\n",
            " [-1.24579141]\n",
            " [-1.24443049]\n",
            " [-1.24170864]\n",
            " [-1.2389868 ]\n",
            " [-1.2389868 ]]\n",
            "\n",
            "outer range (high) of the distribution:\n",
            "[[10.75074908]\n",
            " [10.77796755]\n",
            " [11.24068153]\n",
            " [12.43829419]\n",
            " [12.95544512]\n",
            " [13.09153746]\n",
            " [13.6903438 ]\n",
            " [17.28318179]\n",
            " [17.74589577]\n",
            " [19.48787783]]\n"
          ],
          "name": "stdout"
        },
        {
          "output_type": "stream",
          "text": [
            "/usr/local/lib/python3.7/dist-packages/ipykernel_launcher.py:5: FutureWarning: Support for multi-dimensional indexing (e.g. `obj[:, None]`) is deprecated and will be removed in a future version.  Convert to a numpy array before indexing instead.\n",
            "  \"\"\"\n"
          ],
          "name": "stderr"
        }
      ]
    },
    {
      "cell_type": "code",
      "metadata": {
        "id": "qGmUTdbVmitJ"
      },
      "source": [
        "# Dividing the data into attributes and labels\n",
        "#\n",
        "\n",
        "X = df[['bedrooms','bathrooms','sqft_living','sqft_lot','floors','waterfront','view','condition',\n",
        "        'grade','sqft_above','sqft_basement','sqft_living15','sqft_lot15','year_adj']]\n",
        "y = df['price']\n"
      ],
      "execution_count": 687,
      "outputs": []
    },
    {
      "cell_type": "code",
      "metadata": {
        "id": "JHDAP_WLBc-T"
      },
      "source": [
        "# Dividing our data into training and test sets\n",
        "# \n",
        "\n",
        "from sklearn.model_selection import train_test_split\n",
        "X_train, X_test, y_train, y_test = train_test_split(X, y, test_size=0.2, random_state=0)"
      ],
      "execution_count": 688,
      "outputs": []
    },
    {
      "cell_type": "code",
      "metadata": {
        "colab": {
          "base_uri": "https://localhost:8080/"
        },
        "id": "gn2RzQJMBsx9",
        "outputId": "7bfab20b-9eee-4877-ad39-2b95c20990d2"
      },
      "source": [
        "#Training the algorithm\n",
        "# \n",
        "\n",
        "from sklearn.linear_model import LinearRegression\n",
        "Regressor = LinearRegression()\n",
        "Regressor.fit(X_train, y_train)"
      ],
      "execution_count": 689,
      "outputs": [
        {
          "output_type": "execute_result",
          "data": {
            "text/plain": [
              "LinearRegression(copy_X=True, fit_intercept=True, n_jobs=None, normalize=False)"
            ]
          },
          "metadata": {
            "tags": []
          },
          "execution_count": 689
        }
      ]
    },
    {
      "cell_type": "code",
      "metadata": {
        "colab": {
          "base_uri": "https://localhost:8080/",
          "height": 467
        },
        "id": "fRBFnDTiCByL",
        "outputId": "9c0779f7-b7a4-4aca-d0ec-bb21df6c5776"
      },
      "source": [
        "#Checking the coefficients our regression model has chosen\n",
        "# \n",
        "coeff_df = pd.DataFrame(Regressor.coef_, X.columns, columns=['Coefficient'])\n",
        "coeff_df"
      ],
      "execution_count": 690,
      "outputs": [
        {
          "output_type": "execute_result",
          "data": {
            "text/html": [
              "<div>\n",
              "<style scoped>\n",
              "    .dataframe tbody tr th:only-of-type {\n",
              "        vertical-align: middle;\n",
              "    }\n",
              "\n",
              "    .dataframe tbody tr th {\n",
              "        vertical-align: top;\n",
              "    }\n",
              "\n",
              "    .dataframe thead th {\n",
              "        text-align: right;\n",
              "    }\n",
              "</style>\n",
              "<table border=\"1\" class=\"dataframe\">\n",
              "  <thead>\n",
              "    <tr style=\"text-align: right;\">\n",
              "      <th></th>\n",
              "      <th>Coefficient</th>\n",
              "    </tr>\n",
              "  </thead>\n",
              "  <tbody>\n",
              "    <tr>\n",
              "      <th>bedrooms</th>\n",
              "      <td>-1.571160e-02</td>\n",
              "    </tr>\n",
              "    <tr>\n",
              "      <th>bathrooms</th>\n",
              "      <td>-1.808328e-02</td>\n",
              "    </tr>\n",
              "    <tr>\n",
              "      <th>sqft_living</th>\n",
              "      <td>8.571470e-02</td>\n",
              "    </tr>\n",
              "    <tr>\n",
              "      <th>sqft_lot</th>\n",
              "      <td>3.158421e-07</td>\n",
              "    </tr>\n",
              "    <tr>\n",
              "      <th>floors</th>\n",
              "      <td>7.278297e-02</td>\n",
              "    </tr>\n",
              "    <tr>\n",
              "      <th>waterfront</th>\n",
              "      <td>3.750675e-01</td>\n",
              "    </tr>\n",
              "    <tr>\n",
              "      <th>view</th>\n",
              "      <td>5.883032e-02</td>\n",
              "    </tr>\n",
              "    <tr>\n",
              "      <th>condition</th>\n",
              "      <td>1.019697e-01</td>\n",
              "    </tr>\n",
              "    <tr>\n",
              "      <th>grade</th>\n",
              "      <td>1.788828e-01</td>\n",
              "    </tr>\n",
              "    <tr>\n",
              "      <th>sqft_above</th>\n",
              "      <td>9.716193e-05</td>\n",
              "    </tr>\n",
              "    <tr>\n",
              "      <th>sqft_basement</th>\n",
              "      <td>2.087074e-04</td>\n",
              "    </tr>\n",
              "    <tr>\n",
              "      <th>sqft_living15</th>\n",
              "      <td>1.005995e-04</td>\n",
              "    </tr>\n",
              "    <tr>\n",
              "      <th>sqft_lot15</th>\n",
              "      <td>-8.293426e-07</td>\n",
              "    </tr>\n",
              "    <tr>\n",
              "      <th>year_adj</th>\n",
              "      <td>3.818976e-03</td>\n",
              "    </tr>\n",
              "  </tbody>\n",
              "</table>\n",
              "</div>"
            ],
            "text/plain": [
              "                Coefficient\n",
              "bedrooms      -1.571160e-02\n",
              "bathrooms     -1.808328e-02\n",
              "sqft_living    8.571470e-02\n",
              "sqft_lot       3.158421e-07\n",
              "floors         7.278297e-02\n",
              "waterfront     3.750675e-01\n",
              "view           5.883032e-02\n",
              "condition      1.019697e-01\n",
              "grade          1.788828e-01\n",
              "sqft_above     9.716193e-05\n",
              "sqft_basement  2.087074e-04\n",
              "sqft_living15  1.005995e-04\n",
              "sqft_lot15    -8.293426e-07\n",
              "year_adj       3.818976e-03"
            ]
          },
          "metadata": {
            "tags": []
          },
          "execution_count": 690
        }
      ]
    },
    {
      "cell_type": "code",
      "metadata": {
        "colab": {
          "base_uri": "https://localhost:8080/"
        },
        "id": "7NewdiaWCWlG",
        "outputId": "81276c12-4c32-45eb-fc4f-b9735ac6931d"
      },
      "source": [
        "# Making Predictions\n",
        "# \n",
        "\n",
        "y_pred = Regressor.predict(X_test)\n",
        "y_pred\n"
      ],
      "execution_count": 691,
      "outputs": [
        {
          "output_type": "execute_result",
          "data": {
            "text/plain": [
              "array([12.54257207, 12.89946081, 14.77763951, ..., 12.96308113,\n",
              "       13.25124872, 12.81760106])"
            ]
          },
          "metadata": {
            "tags": []
          },
          "execution_count": 691
        }
      ]
    },
    {
      "cell_type": "code",
      "metadata": {
        "colab": {
          "base_uri": "https://localhost:8080/"
        },
        "id": "g007t2QsH-Um",
        "outputId": "c148dfa3-9c06-40b7-d34b-8676dd1e914e"
      },
      "source": [
        "#Checking the model accuracy\n",
        "#\n",
        "\n",
        "Regressor.score(X_test, y_test)\n",
        "\n",
        "#Our model has an accuraccy of 61.97%"
      ],
      "execution_count": 692,
      "outputs": [
        {
          "output_type": "execute_result",
          "data": {
            "text/plain": [
              "0.6196625010889312"
            ]
          },
          "metadata": {
            "tags": []
          },
          "execution_count": 692
        }
      ]
    },
    {
      "cell_type": "code",
      "metadata": {
        "colab": {
          "base_uri": "https://localhost:8080/"
        },
        "id": "44WfIKEbJNHA",
        "outputId": "bc3156ed-2ea3-497d-eb9b-dc84221e5bc9"
      },
      "source": [
        "# Evaluating the Algorithm\n",
        "# \n",
        "\n",
        "from sklearn import metrics\n",
        "print('Mean Absolute Error:', metrics.mean_absolute_error(y_test, y_pred))\n",
        "print('Mean Squared Error:', metrics.mean_squared_error(y_test, y_pred))\n",
        "print('Root Mean Squared Error:', np.sqrt(metrics.mean_squared_error(y_test, y_pred)))\n",
        "\n",
        "print('*****************')\n",
        "print('Mean price:',df['price'].mean())\n",
        "\n",
        "\n",
        "#Based on an RMSE of 0.3259 which is less than 10% of the mean price of houses thus the model \n",
        "#is quite good in performance  "
      ],
      "execution_count": 693,
      "outputs": [
        {
          "output_type": "stream",
          "text": [
            "Mean Absolute Error: 0.2628751689722092\n",
            "Mean Squared Error: 0.10622276032405337\n",
            "Root Mean Squared Error: 0.32591833382621077\n",
            "*****************\n",
            "Mean price: 13.04789175384592\n"
          ],
          "name": "stdout"
        }
      ]
    },
    {
      "cell_type": "markdown",
      "metadata": {
        "id": "DmHom8VXqB7E"
      },
      "source": [
        "For the multiple linear regression model,the model accuracy is 61.97% whch shows a fair level of accuracy and the RMSE is 0.3259 which is less than 10% of the mean price of houses thus indicates the model created is fairly good.\n",
        "\n",
        "Lets check how the model accuracy changes with regards to lasso,ridge and Elastic Net regression."
      ]
    },
    {
      "cell_type": "markdown",
      "metadata": {
        "id": "qEYIEV5wfZL6"
      },
      "source": [
        "# Residual and heteroscedasticity predictions by multiple linear regression"
      ]
    },
    {
      "cell_type": "markdown",
      "metadata": {
        "id": "no_QkLtpff91"
      },
      "source": [
        "#Residual plot"
      ]
    },
    {
      "cell_type": "code",
      "metadata": {
        "colab": {
          "base_uri": "https://localhost:8080/"
        },
        "id": "PpkzsMabfetK",
        "outputId": "a6060596-c440-454b-dc12-2ac3c58f8271"
      },
      "source": [
        "# We now create the residual by substracting the test value from the predicted \n",
        "# value for each row in our dataset\n",
        "\n",
        "residuals = np.subtract(y_pred,y_test)\n",
        "\n",
        "# Let's describe our residual:\n",
        "pd.DataFrame(residuals).describe()\n",
        "\n",
        "print(residuals)\n",
        "print('********************')\n",
        "residuals.mean()\n",
        "\n",
        "#Our mean residual is close to 0 as shown below, indicating that our model tends to be appropriate\n"
      ],
      "execution_count": 694,
      "outputs": [
        {
          "output_type": "stream",
          "text": [
            "9791     0.257226\n",
            "10281   -0.119762\n",
            "19858   -0.031123\n",
            "20058    0.011284\n",
            "21203   -0.149051\n",
            "           ...   \n",
            "17762   -0.192413\n",
            "13212   -0.014679\n",
            "8109    -0.031449\n",
            "19726   -0.513987\n",
            "16123   -0.036883\n",
            "Name: price, Length: 4322, dtype: float64\n",
            "********************\n"
          ],
          "name": "stdout"
        },
        {
          "output_type": "execute_result",
          "data": {
            "text/plain": [
              "-0.008834638763169995"
            ]
          },
          "metadata": {
            "tags": []
          },
          "execution_count": 694
        }
      ]
    },
    {
      "cell_type": "code",
      "metadata": {
        "colab": {
          "base_uri": "https://localhost:8080/",
          "height": 278
        },
        "id": "lqSAhACJgcGb",
        "outputId": "90380440-bebd-4eec-87ad-98069719e724"
      },
      "source": [
        "#Residual Plot\n",
        "import matplotlib.pyplot as plt\n",
        "\n",
        "plt.scatter(y_pred, residuals, color='black')\n",
        "plt.ylabel('residual')\n",
        "plt.xlabel('fitted values')\n",
        "plt.axhline(y= residuals.mean(), color='red', linewidth=1)\n",
        "plt.show()\n",
        "\n",
        "\n",
        "\n",
        "#This does not look too bad: our residuals are somehow centered around \n",
        "#a mean that is very close to 0 though there are outliers but there are no obvious patterns"
      ],
      "execution_count": 695,
      "outputs": [
        {
          "output_type": "display_data",
          "data": {
            "image/png": "[encoded data removed]",
            "text/plain": [
              "<Figure size 432x288 with 1 Axes>"
            ]
          },
          "metadata": {
            "tags": [],
            "needs_background": "light"
          }
        }
      ]
    },
    {
      "cell_type": "markdown",
      "metadata": {
        "id": "m28kSEKCvlRE"
      },
      "source": [
        "#Barlett's test for heteroscedasticity"
      ]
    },
    {
      "cell_type": "code",
      "metadata": {
        "colab": {
          "base_uri": "https://localhost:8080/"
        },
        "id": "RXiu13ydiypF",
        "outputId": "4d7df9ef-ec1d-4c4d-8baf-034521fd9286"
      },
      "source": [
        "#Heteroscedasticity test\n",
        "\n",
        "import scipy as sp\n",
        "\n",
        "test_result, p_value = sp.stats.bartlett(y_pred, residuals)\n",
        "\n",
        "# To interpret the results we must also compute a critical value of the chi squared distribution\n",
        "degree_of_freedom = len(y_pred)-1\n",
        "probability = 1 - p_value\n",
        "\n",
        "critical_value = sp.stats.chi2.ppf(probability, degree_of_freedom)\n",
        "print(critical_value)\n",
        "\n",
        "# If the test_result is greater than the critical value, then we reject our null\n",
        "# hypothesis. This would mean that there are patterns to the variance of the data\n",
        "\n",
        "# Otherwise, we can identify no patterns, and we accept the null hypothesis that \n",
        "# the variance is homogeneous across our data\n",
        "\n",
        "if (test_result > critical_value):\n",
        "  print('the variances are unequal, and the model should be reassessed')\n",
        "else:\n",
        "  print('the variances are homogeneous!')\n",
        "\n",
        "  \n",
        "\n",
        "#There are no patterns in the variance of the data"
      ],
      "execution_count": 696,
      "outputs": [
        {
          "output_type": "stream",
          "text": [
            "inf\n",
            "the variances are homogeneous!\n"
          ],
          "name": "stdout"
        }
      ]
    },
    {
      "cell_type": "markdown",
      "metadata": {
        "id": "TIxIisJ-TCdT"
      },
      "source": [
        "#6.b) Quantile regression"
      ]
    },
    {
      "cell_type": "code",
      "metadata": {
        "id": "YSnn72uyTGNH"
      },
      "source": [
        "#The two major variables am going to consider is price and square feet area of living area\n",
        "#specifying the dependent and independent variable\n",
        "\n",
        "x = df['price'].values.reshape(-1,1)\n",
        "y = df['sqft_living'].values"
      ],
      "execution_count": 697,
      "outputs": []
    },
    {
      "cell_type": "code",
      "metadata": {
        "colab": {
          "base_uri": "https://localhost:8080/"
        },
        "id": "Hmo3Od0KYBjB",
        "outputId": "8bf52c02-b91b-4509-ca5f-067f25b851b8"
      },
      "source": [
        "## Let's now try to fit a linear regression model\n",
        "# \n",
        "Reg = LinearRegression()\n",
        "Reg.fit(x, y)\n",
        "\n",
        "y_pred = Reg.predict(x)\n",
        "\n",
        "print\n",
        "print(\"Mean squared error: {0:.2f}\"\n",
        "      .format(np.mean((y_pred - y) ** 2)))\n",
        "print('Variance score: {0:.2f}'.format(Reg.score(x,y)))\n",
        "\n",
        "# With a low variance score of 0.46, it means that our linear regression \n",
        "# did not do a good job"
      ],
      "execution_count": 698,
      "outputs": [
        {
          "output_type": "stream",
          "text": [
            "Mean squared error: 0.10\n",
            "Variance score: 0.46\n"
          ],
          "name": "stdout"
        }
      ]
    },
    {
      "cell_type": "code",
      "metadata": {
        "colab": {
          "base_uri": "https://localhost:8080/",
          "height": 295
        },
        "id": "_y2cn_G_ZyMm",
        "outputId": "5673dc95-1748-4f11-eddd-01d8db9d41a2"
      },
      "source": [
        "# We can also see this by plotting the regression below\n",
        "#\n",
        "plt.figure(4)\n",
        "plt.scatter(x, y,  color='black')\n",
        "plt.plot(x, y_pred, color='blue',\n",
        "         linewidth=3)\n",
        "\n",
        "plt.xticks(())\n",
        "plt.yticks(())\n",
        "plt.xlabel(\"x\")\n",
        "plt.ylabel(\"y and predicted y\")\n",
        "plt.title(\"Linear regression on data with non-constant variance\")\n",
        "\n",
        "# We will get to observe that our line of best fit is not so far from perfect but not so good looking"
      ],
      "execution_count": 699,
      "outputs": [
        {
          "output_type": "execute_result",
          "data": {
            "text/plain": [
              "Text(0.5, 1.0, 'Linear regression on data with non-constant variance')"
            ]
          },
          "metadata": {
            "tags": []
          },
          "execution_count": 699
        },
        {
          "output_type": "display_data",
          "data": {
            "image/png": "[encoded data removed]",
            "text/plain": [
              "<Figure size 432x288 with 1 Axes>"
            ]
          },
          "metadata": {
            "tags": []
          }
        }
      ]
    },
    {
      "cell_type": "code",
      "metadata": {
        "colab": {
          "base_uri": "https://localhost:8080/"
        },
        "id": "PtAEuLlVaDGJ",
        "outputId": "a9efc64b-04cf-4dbf-c0cc-950589a6b0df"
      },
      "source": [
        "#Checking the model at 0.5th quantile\n",
        "\n",
        "#We will use the python package statsmodels for Quantile Regression\n",
        "#To check the model at 0.5th quantile\n",
        "#\n",
        "\n",
        "import statsmodels.formula.api as smf\n",
        "\n",
        "# Finding the regression coefficients for the conditioned median, 0.5 quantile\n",
        "#\n",
        "mod = smf.quantreg('y ~ x', df)\n",
        "res = mod.fit(q=.5)\n",
        "\n",
        "# Then print out the summary of our model\n",
        "#\n",
        "print(res.summary())\n"
      ],
      "execution_count": 700,
      "outputs": [
        {
          "output_type": "stream",
          "text": [
            "                         QuantReg Regression Results                          \n",
            "==============================================================================\n",
            "Dep. Variable:                      y   Pseudo R-squared:               0.2660\n",
            "Model:                       QuantReg   Bandwidth:                     0.05623\n",
            "Method:                 Least Squares   Sparsity:                       0.8096\n",
            "Date:                Fri, 16 Apr 2021   No. Observations:                21607\n",
            "Time:                        12:32:15   Df Residuals:                    21605\n",
            "                                        Df Model:                            1\n",
            "==============================================================================\n",
            "                 coef    std err          t      P>|t|      [0.025      0.975]\n",
            "------------------------------------------------------------------------------\n",
            "Intercept      0.5348      0.068      7.836      0.000       0.401       0.669\n",
            "x              0.5395      0.005    103.206      0.000       0.529       0.550\n",
            "==============================================================================\n"
          ],
          "name": "stdout"
        }
      ]
    },
    {
      "cell_type": "code",
      "metadata": {
        "colab": {
          "base_uri": "https://localhost:8080/"
        },
        "id": "otI9tHbMaydz",
        "outputId": "eb533027-2794-4210-b391-c857b061a06b"
      },
      "source": [
        "## Similarly we can do the models for other quantiles\n",
        "# \n",
        "quantiles = np.arange(0.1,1,0.1) \n",
        "models = []\n",
        "params = []\n",
        "\n",
        "# We build models for each quantile in our list quantiles inside a for loop\n",
        "# As we build these models we also store the model parameters in a list called params. \n",
        "for qt in quantiles: \n",
        "\tres = mod.fit(q = qt )\n",
        "\tmodels.append(res)\n",
        "\tparams.append([qt, res.params['Intercept'], res.params['x']] + res.conf_int().loc['x'].tolist())\n",
        "\n",
        "# Lastly we make a dataframe of the same name, so we we can view our different models.\n",
        "params = pd.DataFrame(data = params, columns = ['qt', 'intercept', 'x_coef', 'cf_lower_bound', 'cf_upper_bound'])\n",
        "print(params)\n"
      ],
      "execution_count": 701,
      "outputs": [
        {
          "output_type": "stream",
          "text": [
            "    qt  intercept    x_coef  cf_lower_bound  cf_upper_bound\n",
            "0  0.1  -0.499238  0.584957        0.571940        0.597974\n",
            "1  0.2  -0.137408  0.569303        0.558208        0.580397\n",
            "2  0.3   0.054337  0.562636        0.551479        0.573793\n",
            "3  0.4   0.308430  0.550603        0.539881        0.561325\n",
            "4  0.5   0.534839  0.539463        0.529217        0.549708\n",
            "5  0.6   0.701579  0.532773        0.523086        0.542460\n",
            "6  0.7   0.888765  0.524675        0.515174        0.534175\n",
            "7  0.8   1.039308  0.519739        0.510492        0.528986\n",
            "8  0.9   1.280984  0.509719        0.500040        0.519398\n"
          ],
          "name": "stdout"
        }
      ]
    },
    {
      "cell_type": "code",
      "metadata": {
        "colab": {
          "base_uri": "https://localhost:8080/",
          "height": 295
        },
        "id": "RH0MHyhbbQt8",
        "outputId": "4ad6a16d-f0df-4c37-93f0-43060a75672f"
      },
      "source": [
        "## Let us now plot 0.1th, 0.5th and 0.9th quantile models against our original data.\n",
        "# \n",
        "plt.figure(5)\n",
        "plt.scatter(x, y,  color='black')\n",
        "plt.plot(x, y_pred, color='blue',\n",
        "         linewidth=3, label='Lin Reg')\n",
        "\n",
        "y_pred3 = models[0].params['Intercept'] + models[0].params['x'] * x\n",
        "plt.plot(x, y_pred3, color='red',\n",
        "         linewidth=3, label='Q Reg : 0.1')\n",
        "\n",
        "y_pred4 = models[4].params['Intercept'] + models[4].params['x'] * x\n",
        "plt.plot(x, y_pred4, color='green',\n",
        "         linewidth=3, label='Q Reg : 0.5')\n",
        "\n",
        "\n",
        "y_pred5 = models[8].params['Intercept'] + models[8].params['x'] * x\n",
        "plt.plot(x, y_pred5, color='cyan',\n",
        "         linewidth=3, label='Q Reg : 0.9')\n",
        "\n",
        "plt.xticks(())\n",
        "plt.yticks(())\n",
        "plt.xlabel(\"x\")\n",
        "plt.ylabel(\"y and predicted y\")\n",
        "plt.title(\"Quantile regression on data with non-constant variance\")\n",
        "plt.legend()\n",
        "\n",
        "# Linear regression is plotted with the blue colored line. \n",
        "# We can compare that model with other quantile models.\n",
        "#though we cannot be confident from the plot the quantile plots capture exact situation on data points"
      ],
      "execution_count": 702,
      "outputs": [
        {
          "output_type": "execute_result",
          "data": {
            "text/plain": [
              "<matplotlib.legend.Legend at 0x7f15d270aa10>"
            ]
          },
          "metadata": {
            "tags": []
          },
          "execution_count": 702
        },
        {
          "output_type": "display_data",
          "data": {
            "image/png": "[encoded data removed]",
            "text/plain": [
              "<Figure size 432x288 with 1 Axes>"
            ]
          },
          "metadata": {
            "tags": []
          }
        }
      ]
    },
    {
      "cell_type": "code",
      "metadata": {
        "colab": {
          "base_uri": "https://localhost:8080/",
          "height": 312
        },
        "id": "Rdw-LIpcbuX4",
        "outputId": "7fb33dcc-6318-41ef-f1b1-c565f7b644e2"
      },
      "source": [
        "## Plot the changes in the quantile coefficients\n",
        "# \n",
        "plt.figure(6)\n",
        "params.plot(x = 'qt', y = ['x_coef','cf_lower_bound', 'cf_upper_bound'], \n",
        "\ttitle = 'Slope for different quantiles', kind ='line', style = ['b-','r--','g--'])\n",
        "  \n",
        "plt.show()\n",
        "\n",
        "# We would be able to see how the slope value varies for different quantiles. \n",
        "# Compared with linear regression which is flat across all the quantiles, \n",
        "# Quantile Regression allows us to investigate into the different areas of the data \n",
        "# and model them appropriately "
      ],
      "execution_count": 703,
      "outputs": [
        {
          "output_type": "display_data",
          "data": {
            "text/plain": [
              "<Figure size 432x288 with 0 Axes>"
            ]
          },
          "metadata": {
            "tags": []
          }
        },
        {
          "output_type": "display_data",
          "data": {
            "image/png": "[encoded data removed]",
            "text/plain": [
              "<Figure size 432x288 with 1 Axes>"
            ]
          },
          "metadata": {
            "tags": [],
            "needs_background": "light"
          }
        }
      ]
    },
    {
      "cell_type": "markdown",
      "metadata": {
        "id": "h8YlXpr4W_JR"
      },
      "source": [
        "Compared with linear regression which is flat across all the quantiles, \n",
        "Quantile Regression allows us to investigate into the different areas of the data and model them appropriately "
      ]
    },
    {
      "cell_type": "markdown",
      "metadata": {
        "id": "DFzXA4VSv52b"
      },
      "source": [
        "#6.c) Ridge Regression"
      ]
    },
    {
      "cell_type": "code",
      "metadata": {
        "id": "aa7EuVijwGOe"
      },
      "source": [
        "#Importing relevant libraries\n",
        "\n",
        "from sklearn.model_selection import GridSearchCV\n",
        "from sklearn.linear_model import Ridge"
      ],
      "execution_count": 704,
      "outputs": []
    },
    {
      "cell_type": "code",
      "metadata": {
        "id": "mU-kd6gL2UnF"
      },
      "source": [
        "# Data Preparation\n",
        "# Setting up our X and y datasets\n",
        "#\n",
        "\n",
        "X = df[['bedrooms','bathrooms','sqft_living','sqft_lot','floors','waterfront','view','condition',\n",
        "        'grade','sqft_above','sqft_basement','sqft_living15','sqft_lot15','year_adj']]\n",
        "y = df['price']\n",
        "\n"
      ],
      "execution_count": 705,
      "outputs": []
    },
    {
      "cell_type": "code",
      "metadata": {
        "id": "0FYApvKk45qD"
      },
      "source": [
        "# Dividing our data into training and test sets\n",
        "# \n",
        "\n",
        "from sklearn.model_selection import train_test_split\n",
        "X_train, X_test, y_train, y_test = train_test_split(X, y, test_size=0.2, random_state=0)"
      ],
      "execution_count": 706,
      "outputs": []
    },
    {
      "cell_type": "code",
      "metadata": {
        "colab": {
          "base_uri": "https://localhost:8080/"
        },
        "id": "ErXWrAI4Hpd7",
        "outputId": "1172e3bb-40f4-42cd-d7ca-ec583af55dc0"
      },
      "source": [
        "#Determining the most appropriate value for the l2 regularization. \n",
        "\n",
        "ridge = Ridge(normalize=True) \n",
        "search = GridSearchCV(estimator=ridge,param_grid={'alpha':np.logspace(-5,2,8)},scoring='neg_mean_squared_error',n_jobs=1,refit=True,cv=10)\n",
        "search"
      ],
      "execution_count": 707,
      "outputs": [
        {
          "output_type": "execute_result",
          "data": {
            "text/plain": [
              "GridSearchCV(cv=10, error_score=nan,\n",
              "             estimator=Ridge(alpha=1.0, copy_X=True, fit_intercept=True,\n",
              "                             max_iter=None, normalize=True, random_state=None,\n",
              "                             solver='auto', tol=0.001),\n",
              "             iid='deprecated', n_jobs=1,\n",
              "             param_grid={'alpha': array([1.e-05, 1.e-04, 1.e-03, 1.e-02, 1.e-01, 1.e+00, 1.e+01, 1.e+02])},\n",
              "             pre_dispatch='2*n_jobs', refit=True, return_train_score=False,\n",
              "             scoring='neg_mean_squared_error', verbose=0)"
            ]
          },
          "metadata": {
            "tags": []
          },
          "execution_count": 707
        }
      ]
    },
    {
      "cell_type": "code",
      "metadata": {
        "colab": {
          "base_uri": "https://localhost:8080/"
        },
        "id": "jNm8S_M1I25o",
        "outputId": "e6045cc8-ca92-47c2-9d23-f3b06c5035ec"
      },
      "source": [
        "# We now use the fit function to run the model and then use the best_params_ and\n",
        "#best_scores_ function to determine the models strength. \n",
        "# \n",
        "search.fit(X,y)\n",
        "search.best_params_\n",
        "{'alpha': 0.01}\n",
        "abs(search.best_score_) \n",
        "\n",
        "# The best_params_ tells us what to set alpha too which in this case is 0.001. \n"
      ],
      "execution_count": 708,
      "outputs": [
        {
          "output_type": "execute_result",
          "data": {
            "text/plain": [
              "0.10871622529138106"
            ]
          },
          "metadata": {
            "tags": []
          },
          "execution_count": 708
        }
      ]
    },
    {
      "cell_type": "code",
      "metadata": {
        "colab": {
          "base_uri": "https://localhost:8080/"
        },
        "id": "gO834v2u5CeS",
        "outputId": "45c95ae6-de90-4fa4-fba4-d84309877e3d"
      },
      "source": [
        "#Training the algorithm\n",
        "# \n",
        "\n",
        "ridgeReg= Ridge(alpha=0.001,normalize=True)\n",
        "ridgeReg.fit(X_train, y_train)"
      ],
      "execution_count": 709,
      "outputs": [
        {
          "output_type": "execute_result",
          "data": {
            "text/plain": [
              "Ridge(alpha=0.001, copy_X=True, fit_intercept=True, max_iter=None,\n",
              "      normalize=True, random_state=None, solver='auto', tol=0.001)"
            ]
          },
          "metadata": {
            "tags": []
          },
          "execution_count": 709
        }
      ]
    },
    {
      "cell_type": "code",
      "metadata": {
        "colab": {
          "base_uri": "https://localhost:8080/",
          "height": 467
        },
        "id": "kNdznexe5CTT",
        "outputId": "c7d1d42b-ee57-4337-edbd-770c33c4ba13"
      },
      "source": [
        "#Checking the coefficients our regression model has chosen\n",
        "# \n",
        "coeff_df = pd.DataFrame(ridgeReg.coef_, X.columns, columns=['Coefficient'])\n",
        "coeff_df"
      ],
      "execution_count": 710,
      "outputs": [
        {
          "output_type": "execute_result",
          "data": {
            "text/html": [
              "<div>\n",
              "<style scoped>\n",
              "    .dataframe tbody tr th:only-of-type {\n",
              "        vertical-align: middle;\n",
              "    }\n",
              "\n",
              "    .dataframe tbody tr th {\n",
              "        vertical-align: top;\n",
              "    }\n",
              "\n",
              "    .dataframe thead th {\n",
              "        text-align: right;\n",
              "    }\n",
              "</style>\n",
              "<table border=\"1\" class=\"dataframe\">\n",
              "  <thead>\n",
              "    <tr style=\"text-align: right;\">\n",
              "      <th></th>\n",
              "      <th>Coefficient</th>\n",
              "    </tr>\n",
              "  </thead>\n",
              "  <tbody>\n",
              "    <tr>\n",
              "      <th>bedrooms</th>\n",
              "      <td>-1.573997e-02</td>\n",
              "    </tr>\n",
              "    <tr>\n",
              "      <th>bathrooms</th>\n",
              "      <td>-1.772328e-02</td>\n",
              "    </tr>\n",
              "    <tr>\n",
              "      <th>sqft_living</th>\n",
              "      <td>8.774181e-02</td>\n",
              "    </tr>\n",
              "    <tr>\n",
              "      <th>sqft_lot</th>\n",
              "      <td>3.145672e-07</td>\n",
              "    </tr>\n",
              "    <tr>\n",
              "      <th>floors</th>\n",
              "      <td>7.261568e-02</td>\n",
              "    </tr>\n",
              "    <tr>\n",
              "      <th>waterfront</th>\n",
              "      <td>3.749239e-01</td>\n",
              "    </tr>\n",
              "    <tr>\n",
              "      <th>view</th>\n",
              "      <td>5.891525e-02</td>\n",
              "    </tr>\n",
              "    <tr>\n",
              "      <th>condition</th>\n",
              "      <td>1.018118e-01</td>\n",
              "    </tr>\n",
              "    <tr>\n",
              "      <th>grade</th>\n",
              "      <td>1.784885e-01</td>\n",
              "    </tr>\n",
              "    <tr>\n",
              "      <th>sqft_above</th>\n",
              "      <td>9.631837e-05</td>\n",
              "    </tr>\n",
              "    <tr>\n",
              "      <th>sqft_basement</th>\n",
              "      <td>2.075311e-04</td>\n",
              "    </tr>\n",
              "    <tr>\n",
              "      <th>sqft_living15</th>\n",
              "      <td>1.007262e-04</td>\n",
              "    </tr>\n",
              "    <tr>\n",
              "      <th>sqft_lot15</th>\n",
              "      <td>-8.266805e-07</td>\n",
              "    </tr>\n",
              "    <tr>\n",
              "      <th>year_adj</th>\n",
              "      <td>3.814537e-03</td>\n",
              "    </tr>\n",
              "  </tbody>\n",
              "</table>\n",
              "</div>"
            ],
            "text/plain": [
              "                Coefficient\n",
              "bedrooms      -1.573997e-02\n",
              "bathrooms     -1.772328e-02\n",
              "sqft_living    8.774181e-02\n",
              "sqft_lot       3.145672e-07\n",
              "floors         7.261568e-02\n",
              "waterfront     3.749239e-01\n",
              "view           5.891525e-02\n",
              "condition      1.018118e-01\n",
              "grade          1.784885e-01\n",
              "sqft_above     9.631837e-05\n",
              "sqft_basement  2.075311e-04\n",
              "sqft_living15  1.007262e-04\n",
              "sqft_lot15    -8.266805e-07\n",
              "year_adj       3.814537e-03"
            ]
          },
          "metadata": {
            "tags": []
          },
          "execution_count": 710
        }
      ]
    },
    {
      "cell_type": "code",
      "metadata": {
        "colab": {
          "base_uri": "https://localhost:8080/"
        },
        "id": "4ebSMYQ054tZ",
        "outputId": "6048e70a-9733-4651-ff38-087252b3f1c3"
      },
      "source": [
        "# Making Predictions\n",
        "# \n",
        "\n",
        "Ridge_pred = ridgeReg.predict(X_test)\n",
        "Ridge_pred\n"
      ],
      "execution_count": 711,
      "outputs": [
        {
          "output_type": "execute_result",
          "data": {
            "text/plain": [
              "array([12.54260228, 12.90011264, 14.77532506, ..., 12.96343074,\n",
              "       13.25185984, 12.81716242])"
            ]
          },
          "metadata": {
            "tags": []
          },
          "execution_count": 711
        }
      ]
    },
    {
      "cell_type": "code",
      "metadata": {
        "colab": {
          "base_uri": "https://localhost:8080/"
        },
        "id": "H2NS6p6O6OgM",
        "outputId": "4c8f1094-a839-4f1a-824c-df9c4939769d"
      },
      "source": [
        "#Checking the model accuracy\n",
        "#\n",
        "\n",
        "ridgeReg.score(X_test, y_test)\n",
        "\n",
        "#Our model has an accuraccy of 61.96% which is slightly same as compared to \n",
        "#that of Multiple Linear regression of 61.97%"
      ],
      "execution_count": 712,
      "outputs": [
        {
          "output_type": "execute_result",
          "data": {
            "text/plain": [
              "0.6196338139137463"
            ]
          },
          "metadata": {
            "tags": []
          },
          "execution_count": 712
        }
      ]
    },
    {
      "cell_type": "code",
      "metadata": {
        "colab": {
          "base_uri": "https://localhost:8080/"
        },
        "id": "AlVmdpQu3GhH",
        "outputId": "43b95bc1-02d4-425e-ea32-7a534e11a2a6"
      },
      "source": [
        "# Evaluating the Algorithm\n",
        "# \n",
        "\n",
        "from sklearn import metrics\n",
        "print('Mean Absolute Error:', metrics.mean_absolute_error(y_test, Ridge_pred))\n",
        "print('Mean Squared Error:', metrics.mean_squared_error(y_test, Ridge_pred))\n",
        "print('Root Mean Squared Error:', np.sqrt(metrics.mean_squared_error(y_test, Ridge_pred)))\n",
        "\n",
        "print('*****************')\n",
        "print('Mean price:',df['price'].mean())\n",
        "\n",
        "\n",
        "#Based on an RMSE of 0.3259 which is less than 10% of the mean price of houses thus the model \n",
        "#is quite good in performance \n",
        "#however it is slightly higher than of Multiple linear regression "
      ],
      "execution_count": 713,
      "outputs": [
        {
          "output_type": "stream",
          "text": [
            "Mean Absolute Error: 0.26288533610401077\n",
            "Mean Squared Error: 0.10623077223700639\n",
            "Root Mean Squared Error: 0.32593062488358837\n",
            "*****************\n",
            "Mean price: 13.04789175384592\n"
          ],
          "name": "stdout"
        }
      ]
    },
    {
      "cell_type": "markdown",
      "metadata": {
        "id": "9S8ZEMUKr01z"
      },
      "source": [
        "For the ridge regression model,the model accuracy is 61.96% which shows a fair level of accuracy and the RMSE is 0.3259 which is less than 10% of the mean price of houses thus indicates the model created is fairly good.\n",
        "\n",
        "When comparing with the multiple linear regression model,there isn't a major difference in the accuracy levels and we notice a very slight difference in the accuracy with multiple linear regression model showing a better performance."
      ]
    },
    {
      "cell_type": "markdown",
      "metadata": {
        "id": "ixXEv6x_7UVw"
      },
      "source": [
        "# Residual and heteroscedasticity predictions by Ridge Regression"
      ]
    },
    {
      "cell_type": "markdown",
      "metadata": {
        "id": "yOSJhkj87g83"
      },
      "source": [
        "#Residual plot"
      ]
    },
    {
      "cell_type": "code",
      "metadata": {
        "colab": {
          "base_uri": "https://localhost:8080/"
        },
        "id": "FKCzTTH-7TR3",
        "outputId": "8db15475-e33c-4775-8ff8-1a528264e96b"
      },
      "source": [
        "# We now create the residual by substracting the test value from the predicted \n",
        "# value for each row in our dataset\n",
        "\n",
        "residuals = np.subtract(Ridge_pred,y_test)\n",
        "\n",
        "# Let's describe our residual:\n",
        "pd.DataFrame(residuals).describe()\n",
        "\n",
        "print(residuals)\n",
        "print('********************')\n",
        "residuals.mean()\n",
        "\n",
        "#Our mean residual is close to 0 as shown below, indicating that our model tends to be appropriate\n"
      ],
      "execution_count": 714,
      "outputs": [
        {
          "output_type": "stream",
          "text": [
            "9791     0.257256\n",
            "10281   -0.119110\n",
            "19858   -0.033437\n",
            "20058    0.011401\n",
            "21203   -0.149334\n",
            "           ...   \n",
            "17762   -0.192574\n",
            "13212   -0.014926\n",
            "8109    -0.031099\n",
            "19726   -0.513376\n",
            "16123   -0.037322\n",
            "Name: price, Length: 4322, dtype: float64\n",
            "********************\n"
          ],
          "name": "stdout"
        },
        {
          "output_type": "execute_result",
          "data": {
            "text/plain": [
              "-0.00883287726387422"
            ]
          },
          "metadata": {
            "tags": []
          },
          "execution_count": 714
        }
      ]
    },
    {
      "cell_type": "code",
      "metadata": {
        "colab": {
          "base_uri": "https://localhost:8080/",
          "height": 278
        },
        "id": "GgBxVgH78ZWt",
        "outputId": "cfcb0acc-aeb2-457e-e451-fa445879ea5d"
      },
      "source": [
        "#Residual Plot\n",
        "import matplotlib.pyplot as plt\n",
        "\n",
        "plt.scatter(Ridge_pred, residuals, color='black')\n",
        "plt.ylabel('residual')\n",
        "plt.xlabel('fitted values')\n",
        "plt.axhline(y= residuals.mean(), color='red', linewidth=1)\n",
        "plt.show()\n",
        "\n",
        "#This does not look too bad: our residuals are somehow centered around \n",
        "#a mean that is very close to 0 though there are outliers but there are no obvious patterns\n",
        "#Since there is no major difference between multiple and ridge models,the residual plot is almost exact same"
      ],
      "execution_count": 715,
      "outputs": [
        {
          "output_type": "display_data",
          "data": {
            "image/png": "[encoded data removed]",
            "text/plain": [
              "<Figure size 432x288 with 1 Axes>"
            ]
          },
          "metadata": {
            "tags": [],
            "needs_background": "light"
          }
        }
      ]
    },
    {
      "cell_type": "markdown",
      "metadata": {
        "id": "BDR_xHpx8-0Y"
      },
      "source": [
        "#Barlett's test for heteroscedasticity"
      ]
    },
    {
      "cell_type": "code",
      "metadata": {
        "colab": {
          "base_uri": "https://localhost:8080/"
        },
        "id": "xHO0hq3Z9Foi",
        "outputId": "f8000f26-5dc3-429e-aa99-5dac7c9ed4c9"
      },
      "source": [
        "#Heteroscedasticity test\n",
        "\n",
        "import scipy as sp\n",
        "\n",
        "test_result, p_value = sp.stats.bartlett(Ridge_pred, residuals)\n",
        "\n",
        "# To interpret the results we must also compute a critical value of the chi squared distribution\n",
        "degree_of_freedom = len(Ridge_pred)-1\n",
        "probability = 1 - p_value\n",
        "\n",
        "critical_value = sp.stats.chi2.ppf(probability, degree_of_freedom)\n",
        "print(critical_value)\n",
        "\n",
        "# If the test_result is greater than the critical value, then we reject our null\n",
        "# hypothesis. This would mean that there are patterns to the variance of the data\n",
        "\n",
        "# Otherwise, we can identify no patterns, and we accept the null hypothesis that \n",
        "# the variance is homogeneous across our data\n",
        "\n",
        "if (test_result > critical_value):\n",
        "  print('the variances are unequal, and the model should be reassessed')\n",
        "else:\n",
        "  print('the variances are homogeneous!')\n",
        "\n",
        "#There are no patterns in the variance of the data"
      ],
      "execution_count": 716,
      "outputs": [
        {
          "output_type": "stream",
          "text": [
            "inf\n",
            "the variances are homogeneous!\n"
          ],
          "name": "stdout"
        }
      ]
    },
    {
      "cell_type": "markdown",
      "metadata": {
        "id": "a25XagB69Z_w"
      },
      "source": [
        "#6.d) Lasso Regression"
      ]
    },
    {
      "cell_type": "code",
      "metadata": {
        "id": "inrC1Zx_9jZV"
      },
      "source": [
        "#Importing relevant libraries\n",
        "\n",
        "from sklearn.model_selection import GridSearchCV\n",
        "from sklearn.linear_model import Lasso"
      ],
      "execution_count": 717,
      "outputs": []
    },
    {
      "cell_type": "code",
      "metadata": {
        "id": "Lg0beWnb9zv8"
      },
      "source": [
        "# Data Preparation\n",
        "# Setting up our X and y datasets\n",
        "#\n",
        "\n",
        "X = df[['bedrooms','bathrooms','sqft_living','sqft_lot','floors','waterfront','view','condition',\n",
        "        'grade','sqft_above','sqft_basement','sqft_living15','sqft_lot15','year_adj']]\n",
        "y = df['price']\n",
        "\n",
        "# Scaling data \n",
        "#\n",
        "scaler = StandardScaler()\n",
        "scaler.fit(X)\n",
        "X = scaler.transform(X)"
      ],
      "execution_count": 718,
      "outputs": []
    },
    {
      "cell_type": "code",
      "metadata": {
        "id": "C3vFJlLwAOpY"
      },
      "source": [
        "# Dividing our data into training and test sets\n",
        "# \n",
        "\n",
        "from sklearn.model_selection import train_test_split\n",
        "X_train, X_test, y_train, y_test = train_test_split(X, y, test_size=0.2, random_state=0)"
      ],
      "execution_count": 719,
      "outputs": []
    },
    {
      "cell_type": "code",
      "metadata": {
        "colab": {
          "base_uri": "https://localhost:8080/"
        },
        "id": "mu1Bv8iCKEff",
        "outputId": "c4933f77-fd51-4f42-9ce4-68f31adf7eda"
      },
      "source": [
        "#Determining the most appropriate value for the l1 regularization. \n",
        "\n",
        "#lasso = Lasso() \n",
        "#gridlasso = GridSearchCV(estimator=lasso,param_grid={'alpha':np.logspace(-5,2,8)},scoring='neg_mean_squared_error',n_jobs=1,refit=True,cv=10,scoring ='r2')\n",
        "#gridlasso\n",
        "\n",
        "\n",
        "lasso = Lasso(normalize=True) \n",
        "search = GridSearchCV(estimator=lasso,param_grid={'alpha':np.logspace(-5,2,8)},scoring='neg_mean_squared_error',n_jobs=1,refit=True,cv=10)\n",
        "search"
      ],
      "execution_count": 720,
      "outputs": [
        {
          "output_type": "execute_result",
          "data": {
            "text/plain": [
              "GridSearchCV(cv=10, error_score=nan,\n",
              "             estimator=Lasso(alpha=1.0, copy_X=True, fit_intercept=True,\n",
              "                             max_iter=1000, normalize=True, positive=False,\n",
              "                             precompute=False, random_state=None,\n",
              "                             selection='cyclic', tol=0.0001, warm_start=False),\n",
              "             iid='deprecated', n_jobs=1,\n",
              "             param_grid={'alpha': array([1.e-05, 1.e-04, 1.e-03, 1.e-02, 1.e-01, 1.e+00, 1.e+01, 1.e+02])},\n",
              "             pre_dispatch='2*n_jobs', refit=True, return_train_score=False,\n",
              "             scoring='neg_mean_squared_error', verbose=0)"
            ]
          },
          "metadata": {
            "tags": []
          },
          "execution_count": 720
        }
      ]
    },
    {
      "cell_type": "code",
      "metadata": {
        "colab": {
          "base_uri": "https://localhost:8080/"
        },
        "id": "S883yD63OBZv",
        "outputId": "9f45f427-6c85-4588-98cd-1e72dfef3d3e"
      },
      "source": [
        "# We now use the fit function to run the model and then use the best_params_ and\n",
        "#best_scores_ function to determine the models strength. \n",
        "# \n",
        "search.fit(X,y)\n",
        "print(search.best_params_)\n",
        "{'alpha': 0.01}\n",
        "abs(search.best_score_) \n",
        "\n",
        "# The best_params_ tells us what to set alpha too which in this case is 1e-05. \n",
        "# The best_score_ tells us what the best possible mean squared error is. "
      ],
      "execution_count": 721,
      "outputs": [
        {
          "output_type": "stream",
          "text": [
            "{'alpha': 1e-05}\n"
          ],
          "name": "stdout"
        },
        {
          "output_type": "execute_result",
          "data": {
            "text/plain": [
              "0.10877146846531334"
            ]
          },
          "metadata": {
            "tags": []
          },
          "execution_count": 721
        }
      ]
    },
    {
      "cell_type": "code",
      "metadata": {
        "colab": {
          "base_uri": "https://localhost:8080/"
        },
        "id": "8fKbfUM-ATKH",
        "outputId": "797cefaa-edc5-4e35-fcac-1965e290fa3c"
      },
      "source": [
        "#Training the algorithm\n",
        "# \n",
        "\n",
        "lassoReg= Lasso(alpha=1e-05,normalize=True)\n",
        "lassoReg.fit(X_train, y_train)"
      ],
      "execution_count": 722,
      "outputs": [
        {
          "output_type": "execute_result",
          "data": {
            "text/plain": [
              "Lasso(alpha=1e-05, copy_X=True, fit_intercept=True, max_iter=1000,\n",
              "      normalize=True, positive=False, precompute=False, random_state=None,\n",
              "      selection='cyclic', tol=0.0001, warm_start=False)"
            ]
          },
          "metadata": {
            "tags": []
          },
          "execution_count": 722
        }
      ]
    },
    {
      "cell_type": "code",
      "metadata": {
        "colab": {
          "base_uri": "https://localhost:8080/",
          "height": 467
        },
        "id": "i7dyci4JAbw5",
        "outputId": "bbc23f35-4273-4554-c0e6-6b13b9283f12"
      },
      "source": [
        "#Checking the coefficients our regression model has chosen\n",
        "# \n",
        "coeff_df = pd.DataFrame(lassoReg.coef_,columns=['Coefficient'])\n",
        "coeff_df"
      ],
      "execution_count": 723,
      "outputs": [
        {
          "output_type": "execute_result",
          "data": {
            "text/html": [
              "<div>\n",
              "<style scoped>\n",
              "    .dataframe tbody tr th:only-of-type {\n",
              "        vertical-align: middle;\n",
              "    }\n",
              "\n",
              "    .dataframe tbody tr th {\n",
              "        vertical-align: top;\n",
              "    }\n",
              "\n",
              "    .dataframe thead th {\n",
              "        text-align: right;\n",
              "    }\n",
              "</style>\n",
              "<table border=\"1\" class=\"dataframe\">\n",
              "  <thead>\n",
              "    <tr style=\"text-align: right;\">\n",
              "      <th></th>\n",
              "      <th>Coefficient</th>\n",
              "    </tr>\n",
              "  </thead>\n",
              "  <tbody>\n",
              "    <tr>\n",
              "      <th>0</th>\n",
              "      <td>-0.011958</td>\n",
              "    </tr>\n",
              "    <tr>\n",
              "      <th>1</th>\n",
              "      <td>-0.006443</td>\n",
              "    </tr>\n",
              "    <tr>\n",
              "      <th>2</th>\n",
              "      <td>0.037289</td>\n",
              "    </tr>\n",
              "    <tr>\n",
              "      <th>3</th>\n",
              "      <td>0.007983</td>\n",
              "    </tr>\n",
              "    <tr>\n",
              "      <th>4</th>\n",
              "      <td>0.035343</td>\n",
              "    </tr>\n",
              "    <tr>\n",
              "      <th>5</th>\n",
              "      <td>0.031647</td>\n",
              "    </tr>\n",
              "    <tr>\n",
              "      <th>6</th>\n",
              "      <td>0.045402</td>\n",
              "    </tr>\n",
              "    <tr>\n",
              "      <th>7</th>\n",
              "      <td>0.064637</td>\n",
              "    </tr>\n",
              "    <tr>\n",
              "      <th>8</th>\n",
              "      <td>0.210174</td>\n",
              "    </tr>\n",
              "    <tr>\n",
              "      <th>9</th>\n",
              "      <td>0.074081</td>\n",
              "    </tr>\n",
              "    <tr>\n",
              "      <th>10</th>\n",
              "      <td>0.087033</td>\n",
              "    </tr>\n",
              "    <tr>\n",
              "      <th>11</th>\n",
              "      <td>0.068149</td>\n",
              "    </tr>\n",
              "    <tr>\n",
              "      <th>12</th>\n",
              "      <td>-0.017164</td>\n",
              "    </tr>\n",
              "    <tr>\n",
              "      <th>13</th>\n",
              "      <td>0.045881</td>\n",
              "    </tr>\n",
              "  </tbody>\n",
              "</table>\n",
              "</div>"
            ],
            "text/plain": [
              "    Coefficient\n",
              "0     -0.011958\n",
              "1     -0.006443\n",
              "2      0.037289\n",
              "3      0.007983\n",
              "4      0.035343\n",
              "5      0.031647\n",
              "6      0.045402\n",
              "7      0.064637\n",
              "8      0.210174\n",
              "9      0.074081\n",
              "10     0.087033\n",
              "11     0.068149\n",
              "12    -0.017164\n",
              "13     0.045881"
            ]
          },
          "metadata": {
            "tags": []
          },
          "execution_count": 723
        }
      ]
    },
    {
      "cell_type": "code",
      "metadata": {
        "colab": {
          "base_uri": "https://localhost:8080/"
        },
        "id": "-jD2__U5AjpM",
        "outputId": "efa393c5-25fa-41e4-f56b-0f2b8d3b8a13"
      },
      "source": [
        "# Making Predictions\n",
        "# \n",
        "\n",
        "Lasso_pred = lassoReg.predict(X_test)\n",
        "Lasso_pred"
      ],
      "execution_count": 724,
      "outputs": [
        {
          "output_type": "execute_result",
          "data": {
            "text/plain": [
              "array([12.54102813, 12.90211287, 14.75725175, ..., 12.97588544,\n",
              "       13.25916773, 12.82359582])"
            ]
          },
          "metadata": {
            "tags": []
          },
          "execution_count": 724
        }
      ]
    },
    {
      "cell_type": "code",
      "metadata": {
        "colab": {
          "base_uri": "https://localhost:8080/"
        },
        "id": "HdagIkHoA0zw",
        "outputId": "64205b69-89b1-4374-da01-1cc49f86ec1a"
      },
      "source": [
        "#Checking the model accuracy\n",
        "#\n",
        "\n",
        "lassoReg.score(X_test, y_test)\n",
        "\n",
        "#Our model has an accuraccy of 61.92% which is less e as compared to \n",
        "#Ridge regression and multiple linear regression"
      ],
      "execution_count": 725,
      "outputs": [
        {
          "output_type": "execute_result",
          "data": {
            "text/plain": [
              "0.6191910754298926"
            ]
          },
          "metadata": {
            "tags": []
          },
          "execution_count": 725
        }
      ]
    },
    {
      "cell_type": "code",
      "metadata": {
        "colab": {
          "base_uri": "https://localhost:8080/"
        },
        "id": "zulUlTJABYRD",
        "outputId": "42f6d8db-60e5-468d-f587-33b0449c86fd"
      },
      "source": [
        "# Evaluating the Algorithm\n",
        "# \n",
        "\n",
        "from sklearn import metrics\n",
        "print('Mean Absolute Error:', metrics.mean_absolute_error(y_test, Lasso_pred))\n",
        "print('Mean Squared Error:', metrics.mean_squared_error(y_test, Lasso_pred))\n",
        "print('Root Mean Squared Error:', np.sqrt(metrics.mean_squared_error(y_test, Lasso_pred)))\n",
        "\n",
        "print('*****************')\n",
        "print('Mean price:',df['price'].mean())\n",
        "\n",
        "\n",
        "#Based on an RMSE of 0.3261 which is less than 10% of the mean price of houses thus the model \n",
        "#is quite good in performance \n",
        "#however it is slightly higher than of Multiple linear regression and same as Ridge regression"
      ],
      "execution_count": 726,
      "outputs": [
        {
          "output_type": "stream",
          "text": [
            "Mean Absolute Error: 0.26304588927361733\n",
            "Mean Squared Error: 0.10635442268954204\n",
            "Root Mean Squared Error: 0.3261202580177166\n",
            "*****************\n",
            "Mean price: 13.04789175384592\n"
          ],
          "name": "stdout"
        }
      ]
    },
    {
      "cell_type": "markdown",
      "metadata": {
        "id": "sgX3LnsLxGt_"
      },
      "source": [
        "For the lasso regression model,the model accuracy is 61.92% which shows a fair level of accuracy and the RMSE is 0.326 which is less than 10% of the mean price of houses thus indicates the model created is fairly good.\n",
        "\n",
        "When comparing with the multiple linear regression model and ridge regression model,there isn't a major difference in the accuracy levels and we notice a very slight difference in the accuracy with lasso regression model showing a a slightly low level of accuracy compared to ridge and multiple linear regression."
      ]
    },
    {
      "cell_type": "markdown",
      "metadata": {
        "id": "4rCb39z3BpFp"
      },
      "source": [
        "# Residual and heteroscedasticity predictions by Lasso Regression"
      ]
    },
    {
      "cell_type": "markdown",
      "metadata": {
        "id": "lR-CSg-OBsi_"
      },
      "source": [
        "#Residual plot"
      ]
    },
    {
      "cell_type": "code",
      "metadata": {
        "colab": {
          "base_uri": "https://localhost:8080/"
        },
        "id": "RRKYfMiaBxdI",
        "outputId": "b471a272-c883-4fcf-85c3-51e2805f6c25"
      },
      "source": [
        "# We now create the residual by substracting the test value from the predicted \n",
        "# value for each row in our dataset\n",
        "\n",
        "residuals = np.subtract(Lasso_pred,y_test)\n",
        "\n",
        "# Let's describe our residual:\n",
        "pd.DataFrame(residuals).describe()\n",
        "\n",
        "print(residuals)\n",
        "print('********************')\n",
        "residuals.mean()\n",
        "\n",
        "#Our mean residual is close to 0 as shown below, indicating that our model tends to be appropriate"
      ],
      "execution_count": 727,
      "outputs": [
        {
          "output_type": "stream",
          "text": [
            "9791     0.255682\n",
            "10281   -0.117110\n",
            "19858   -0.051511\n",
            "20058    0.013158\n",
            "21203   -0.147284\n",
            "           ...   \n",
            "17762   -0.193630\n",
            "13212   -0.021566\n",
            "8109    -0.018645\n",
            "19726   -0.506068\n",
            "16123   -0.030888\n",
            "Name: price, Length: 4322, dtype: float64\n",
            "********************\n"
          ],
          "name": "stdout"
        },
        {
          "output_type": "execute_result",
          "data": {
            "text/plain": [
              "-0.00888502195460668"
            ]
          },
          "metadata": {
            "tags": []
          },
          "execution_count": 727
        }
      ]
    },
    {
      "cell_type": "code",
      "metadata": {
        "colab": {
          "base_uri": "https://localhost:8080/",
          "height": 278
        },
        "id": "33L45wcwCJsb",
        "outputId": "0ba2b9c3-c778-4c2a-9a33-d542a64925e5"
      },
      "source": [
        "#Residual Plot\n",
        "import matplotlib.pyplot as plt\n",
        "\n",
        "plt.scatter(Lasso_pred, residuals, color='black')\n",
        "plt.ylabel('residual')\n",
        "plt.xlabel('fitted values')\n",
        "plt.axhline(y= residuals.mean(), color='red', linewidth=1)\n",
        "plt.show()\n",
        "\n",
        "#This does not look too bad: our residuals are somehow centered around \n",
        "#a mean that is very close to 0 though there are outliers but there are no obvious patterns\n",
        "#Since there is no major difference between multiple and ridge models,the residual plot is almost exact same"
      ],
      "execution_count": 728,
      "outputs": [
        {
          "output_type": "display_data",
          "data": {
            "image/png": "[encoded data removed]",
            "text/plain": [
              "<Figure size 432x288 with 1 Axes>"
            ]
          },
          "metadata": {
            "tags": [],
            "needs_background": "light"
          }
        }
      ]
    },
    {
      "cell_type": "markdown",
      "metadata": {
        "id": "F_Pd8YmfCXr_"
      },
      "source": [
        "#Barlett's test for heteroscedasticity"
      ]
    },
    {
      "cell_type": "code",
      "metadata": {
        "colab": {
          "base_uri": "https://localhost:8080/"
        },
        "id": "4Y4nHLZxCZCc",
        "outputId": "fdbfb539-1863-4e51-c3c6-01b677390297"
      },
      "source": [
        "#Heteroscedasticity test\n",
        "\n",
        "import scipy as sp\n",
        "\n",
        "test_result, p_value = sp.stats.bartlett(Lasso_pred, residuals)\n",
        "\n",
        "# To interpret the results we must also compute a critical value of the chi squared distribution\n",
        "degree_of_freedom = len(Lasso_pred)-1\n",
        "probability = 1 - p_value\n",
        "\n",
        "critical_value = sp.stats.chi2.ppf(probability, degree_of_freedom)\n",
        "print(critical_value)\n",
        "\n",
        "# If the test_result is greater than the critical value, then we reject our null\n",
        "# hypothesis. This would mean that there are patterns to the variance of the data\n",
        "\n",
        "# Otherwise, we can identify no patterns, and we accept the null hypothesis that \n",
        "# the variance is homogeneous across our data\n",
        "\n",
        "if (test_result > critical_value):\n",
        "  print('the variances are unequal, and the model should be reassessed')\n",
        "else:\n",
        "  print('the variances are homogeneous!')\n",
        "\n",
        "#There are no patterns in the variance of the data"
      ],
      "execution_count": 729,
      "outputs": [
        {
          "output_type": "stream",
          "text": [
            "inf\n",
            "the variances are homogeneous!\n"
          ],
          "name": "stdout"
        }
      ]
    },
    {
      "cell_type": "markdown",
      "metadata": {
        "id": "-uRPkFkrCk7W"
      },
      "source": [
        "#6.e) Elastic Net Regression"
      ]
    },
    {
      "cell_type": "code",
      "metadata": {
        "id": "k73oOQRgCvDR"
      },
      "source": [
        "#Importing relevant libraries\n",
        "\n",
        "from sklearn.model_selection import GridSearchCV\n",
        "from sklearn.linear_model import ElasticNet"
      ],
      "execution_count": 730,
      "outputs": []
    },
    {
      "cell_type": "code",
      "metadata": {
        "id": "MFA1aTIxC_PS"
      },
      "source": [
        "# Data Preparation\n",
        "# Setting up our X and y datasets\n",
        "#\n",
        "\n",
        "X = df[['bedrooms','bathrooms','sqft_living','sqft_lot','floors','waterfront','view','condition',\n",
        "        'grade','sqft_above','sqft_basement','sqft_living15','sqft_lot15','year_adj']]\n",
        "y = df['price']"
      ],
      "execution_count": 731,
      "outputs": []
    },
    {
      "cell_type": "code",
      "metadata": {
        "id": "IVAWI7h6DDYp"
      },
      "source": [
        "# Dividing our data into training and test sets\n",
        "# \n",
        "\n",
        "from sklearn.model_selection import train_test_split\n",
        "X_train, X_test, y_train, y_test = train_test_split(X, y, test_size=0.2, random_state=0)"
      ],
      "execution_count": 732,
      "outputs": []
    },
    {
      "cell_type": "code",
      "metadata": {
        "colab": {
          "base_uri": "https://localhost:8080/"
        },
        "id": "2Ncs_UM7DG1V",
        "outputId": "da82fd60-1bbf-47f0-f258-a93b854ca74e"
      },
      "source": [
        "# Elastic net, just like ridge and lasso regression, requires normalize data. \n",
        "# This argument  is set inside the ElasticNet function. \n",
        "# The second thing we need to do is create our grid.\n",
        "# \n",
        "elastic=ElasticNet(normalize=True)\n",
        "search=GridSearchCV(estimator=elastic,param_grid={'alpha':np.logspace(-5,2,8),'l1_ratio':[.2,.4,.6,.8]},scoring='neg_mean_squared_error',n_jobs=1,refit=True,cv=10)\n",
        "search"
      ],
      "execution_count": 733,
      "outputs": [
        {
          "output_type": "execute_result",
          "data": {
            "text/plain": [
              "GridSearchCV(cv=10, error_score=nan,\n",
              "             estimator=ElasticNet(alpha=1.0, copy_X=True, fit_intercept=True,\n",
              "                                  l1_ratio=0.5, max_iter=1000, normalize=True,\n",
              "                                  positive=False, precompute=False,\n",
              "                                  random_state=None, selection='cyclic',\n",
              "                                  tol=0.0001, warm_start=False),\n",
              "             iid='deprecated', n_jobs=1,\n",
              "             param_grid={'alpha': array([1.e-05, 1.e-04, 1.e-03, 1.e-02, 1.e-01, 1.e+00, 1.e+01, 1.e+02]),\n",
              "                         'l1_ratio': [0.2, 0.4, 0.6, 0.8]},\n",
              "             pre_dispatch='2*n_jobs', refit=True, return_train_score=False,\n",
              "             scoring='neg_mean_squared_error', verbose=0)"
            ]
          },
          "metadata": {
            "tags": []
          },
          "execution_count": 733
        }
      ]
    },
    {
      "cell_type": "code",
      "metadata": {
        "colab": {
          "base_uri": "https://localhost:8080/"
        },
        "id": "KG1s5xqFEFxM",
        "outputId": "ecfa24fa-cce3-4b1a-c972-5c750ccbc524"
      },
      "source": [
        "# We will now fit our model and display the best parameters and the best results we can get with that setup.\n",
        "# \n",
        "search.fit(X,y)\n",
        "print(search.best_params_)\n",
        "abs(search.best_score_)\n",
        "\n",
        "#The bset values fo ralpha and I1_ratio are shown below"
      ],
      "execution_count": 734,
      "outputs": [
        {
          "output_type": "stream",
          "text": [
            "{'alpha': 1e-05, 'l1_ratio': 0.8}\n"
          ],
          "name": "stdout"
        },
        {
          "output_type": "execute_result",
          "data": {
            "text/plain": [
              "0.10895804356521732"
            ]
          },
          "metadata": {
            "tags": []
          },
          "execution_count": 734
        }
      ]
    },
    {
      "cell_type": "code",
      "metadata": {
        "colab": {
          "base_uri": "https://localhost:8080/"
        },
        "id": "yKiHrqVsEaaM",
        "outputId": "19033ac0-a165-4c04-f506-b24426aca0a9"
      },
      "source": [
        "# The best hyperparameters was an alpha set to 1 and a l1_ratio of 0.5. \n",
        "#Training the algorithm\n",
        "\n",
        "Elastic_Reg= ElasticNet(normalize=True,alpha=1e-05,l1_ratio=0.8)\n",
        "Elastic_Reg.fit(X,y)\n"
      ],
      "execution_count": 735,
      "outputs": [
        {
          "output_type": "execute_result",
          "data": {
            "text/plain": [
              "ElasticNet(alpha=1e-05, copy_X=True, fit_intercept=True, l1_ratio=0.8,\n",
              "           max_iter=1000, normalize=True, positive=False, precompute=False,\n",
              "           random_state=None, selection='cyclic', tol=0.0001, warm_start=False)"
            ]
          },
          "metadata": {
            "tags": []
          },
          "execution_count": 735
        }
      ]
    },
    {
      "cell_type": "code",
      "metadata": {
        "colab": {
          "base_uri": "https://localhost:8080/",
          "height": 467
        },
        "id": "MZFQRrHDFADd",
        "outputId": "ad76d928-aa41-46db-991f-4f0e1d540a7e"
      },
      "source": [
        "#Checking the coefficients our regression model has chosen\n",
        "# \n",
        "coeff_df = pd.DataFrame(Elastic_Reg.coef_, X.columns,columns=['Coefficient'])\n",
        "coeff_df"
      ],
      "execution_count": 736,
      "outputs": [
        {
          "output_type": "execute_result",
          "data": {
            "text/html": [
              "<div>\n",
              "<style scoped>\n",
              "    .dataframe tbody tr th:only-of-type {\n",
              "        vertical-align: middle;\n",
              "    }\n",
              "\n",
              "    .dataframe tbody tr th {\n",
              "        vertical-align: top;\n",
              "    }\n",
              "\n",
              "    .dataframe thead th {\n",
              "        text-align: right;\n",
              "    }\n",
              "</style>\n",
              "<table border=\"1\" class=\"dataframe\">\n",
              "  <thead>\n",
              "    <tr style=\"text-align: right;\">\n",
              "      <th></th>\n",
              "      <th>Coefficient</th>\n",
              "    </tr>\n",
              "  </thead>\n",
              "  <tbody>\n",
              "    <tr>\n",
              "      <th>bedrooms</th>\n",
              "      <td>-1.515176e-02</td>\n",
              "    </tr>\n",
              "    <tr>\n",
              "      <th>bathrooms</th>\n",
              "      <td>-0.000000e+00</td>\n",
              "    </tr>\n",
              "    <tr>\n",
              "      <th>sqft_living</th>\n",
              "      <td>1.254814e-01</td>\n",
              "    </tr>\n",
              "    <tr>\n",
              "      <th>sqft_lot</th>\n",
              "      <td>1.565599e-07</td>\n",
              "    </tr>\n",
              "    <tr>\n",
              "      <th>floors</th>\n",
              "      <td>6.308710e-02</td>\n",
              "    </tr>\n",
              "    <tr>\n",
              "      <th>waterfront</th>\n",
              "      <td>3.318782e-01</td>\n",
              "    </tr>\n",
              "    <tr>\n",
              "      <th>view</th>\n",
              "      <td>6.240184e-02</td>\n",
              "    </tr>\n",
              "    <tr>\n",
              "      <th>condition</th>\n",
              "      <td>9.225979e-02</td>\n",
              "    </tr>\n",
              "    <tr>\n",
              "      <th>grade</th>\n",
              "      <td>1.643942e-01</td>\n",
              "    </tr>\n",
              "    <tr>\n",
              "      <th>sqft_above</th>\n",
              "      <td>7.969519e-05</td>\n",
              "    </tr>\n",
              "    <tr>\n",
              "      <th>sqft_basement</th>\n",
              "      <td>1.813108e-04</td>\n",
              "    </tr>\n",
              "    <tr>\n",
              "      <th>sqft_living15</th>\n",
              "      <td>1.008840e-04</td>\n",
              "    </tr>\n",
              "    <tr>\n",
              "      <th>sqft_lot15</th>\n",
              "      <td>-5.915494e-07</td>\n",
              "    </tr>\n",
              "    <tr>\n",
              "      <th>year_adj</th>\n",
              "      <td>3.534841e-03</td>\n",
              "    </tr>\n",
              "  </tbody>\n",
              "</table>\n",
              "</div>"
            ],
            "text/plain": [
              "                Coefficient\n",
              "bedrooms      -1.515176e-02\n",
              "bathrooms     -0.000000e+00\n",
              "sqft_living    1.254814e-01\n",
              "sqft_lot       1.565599e-07\n",
              "floors         6.308710e-02\n",
              "waterfront     3.318782e-01\n",
              "view           6.240184e-02\n",
              "condition      9.225979e-02\n",
              "grade          1.643942e-01\n",
              "sqft_above     7.969519e-05\n",
              "sqft_basement  1.813108e-04\n",
              "sqft_living15  1.008840e-04\n",
              "sqft_lot15    -5.915494e-07\n",
              "year_adj       3.534841e-03"
            ]
          },
          "metadata": {
            "tags": []
          },
          "execution_count": 736
        }
      ]
    },
    {
      "cell_type": "code",
      "metadata": {
        "colab": {
          "base_uri": "https://localhost:8080/"
        },
        "id": "y0nFMgRbFfLt",
        "outputId": "dd94d89a-b03b-4a05-d064-627702f0cf81"
      },
      "source": [
        "# Making Predictions\n",
        "# \n",
        "\n",
        "Elastic_pred = Elastic_Reg.predict(X_test)\n",
        "Elastic_pred"
      ],
      "execution_count": 737,
      "outputs": [
        {
          "output_type": "execute_result",
          "data": {
            "text/plain": [
              "array([12.54635343, 12.92373024, 14.71773551, ..., 12.98670571,\n",
              "       13.27737955, 12.81012731])"
            ]
          },
          "metadata": {
            "tags": []
          },
          "execution_count": 737
        }
      ]
    },
    {
      "cell_type": "code",
      "metadata": {
        "colab": {
          "base_uri": "https://localhost:8080/"
        },
        "id": "6VqFPbQUG04B",
        "outputId": "561e82dc-76b5-4c5d-ebce-e6fce420b5d9"
      },
      "source": [
        "#Checking the model accuracy\n",
        "#\n",
        "\n",
        "Elastic_Reg.score(X_test, y_test)\n",
        "\n",
        "#Our model has an accuraccy of 61.83% which is the same as compared to "
      ],
      "execution_count": 738,
      "outputs": [
        {
          "output_type": "execute_result",
          "data": {
            "text/plain": [
              "0.6182917714299162"
            ]
          },
          "metadata": {
            "tags": []
          },
          "execution_count": 738
        }
      ]
    },
    {
      "cell_type": "code",
      "metadata": {
        "colab": {
          "base_uri": "https://localhost:8080/"
        },
        "id": "Ajiif7ixRY9J",
        "outputId": "b9dd61a1-5964-4952-fa03-c4051e846f66"
      },
      "source": [
        "# Evaluating the Algorithm\n",
        "# \n",
        "\n",
        "from sklearn import metrics\n",
        "print('Mean Absolute Error:', metrics.mean_absolute_error(Elastic_pred, Lasso_pred))\n",
        "print('Mean Squared Error:', metrics.mean_squared_error(Elastic_pred, Lasso_pred))\n",
        "print('Root Mean Squared Error:', np.sqrt(metrics.mean_squared_error(Elastic_pred, Lasso_pred)))\n",
        "\n",
        "print('*****************')\n",
        "print('Mean price:',df['price'].mean())\n",
        "\n",
        "\n",
        "#Based on an RMSE of 0.0128 which is less than 10% of the mean price of houses thus the model \n",
        "#is quite good in performance \n",
        "#however it is the lowest as compared to tha of Multiple linear,ridge and lasso regression"
      ],
      "execution_count": 739,
      "outputs": [
        {
          "output_type": "stream",
          "text": [
            "Mean Absolute Error: 0.009920150365667912\n",
            "Mean Squared Error: 0.00016384089364621378\n",
            "Root Mean Squared Error: 0.012800034908007626\n",
            "*****************\n",
            "Mean price: 13.04789175384592\n"
          ],
          "name": "stdout"
        }
      ]
    },
    {
      "cell_type": "markdown",
      "metadata": {
        "id": "9xAxbg5Iy1Tp"
      },
      "source": [
        "For the Elastic Net regression model,the model accuracy is 61.83% which shows a fair level of accuracy and the RMSE is 0.0128 which is less than 10% of the mean price of houses thus indicates the model created is fairly good.\n",
        "\n",
        "When comparing with the multiple linear regression model and ridge and lasso regression model,there isn't a major difference in the accuracy levels and we notice a very slight difference in the accuracy with Elastic Net regression model showing a a slightly low level of accuracy compared to lasso,ridge and multiple linear regression.\n"
      ]
    },
    {
      "cell_type": "markdown",
      "metadata": {
        "id": "UiJ-AWhcSDms"
      },
      "source": [
        "# Residual and heteroscedasticity predictions by Elastic Net Regression"
      ]
    },
    {
      "cell_type": "markdown",
      "metadata": {
        "id": "5tyIhMiNSNVk"
      },
      "source": [
        "#Residual plot"
      ]
    },
    {
      "cell_type": "code",
      "metadata": {
        "colab": {
          "base_uri": "https://localhost:8080/"
        },
        "id": "fxG35COZSQcU",
        "outputId": "759cf336-65dd-40ab-c084-3c0c842cf80b"
      },
      "source": [
        "# We now create the residual by substracting the test value from the predicted \n",
        "# value for each row in our dataset\n",
        "\n",
        "residuals = np.subtract(Elastic_pred,y_test)\n",
        "\n",
        "# Let's describe our residual:\n",
        "pd.DataFrame(residuals).describe()\n",
        "\n",
        "print(residuals)\n",
        "print('********************')\n",
        "residuals.mean()\n",
        "\n",
        "#Our mean residual is close to 0 as shown below, indicating that our model tends to be appropriate"
      ],
      "execution_count": 740,
      "outputs": [
        {
          "output_type": "stream",
          "text": [
            "9791     0.261008\n",
            "10281   -0.095492\n",
            "19858   -0.091027\n",
            "20058    0.022385\n",
            "21203   -0.152809\n",
            "           ...   \n",
            "17762   -0.188400\n",
            "13212   -0.026536\n",
            "8109    -0.007824\n",
            "19726   -0.487856\n",
            "16123   -0.044357\n",
            "Name: price, Length: 4322, dtype: float64\n",
            "********************\n"
          ],
          "name": "stdout"
        },
        {
          "output_type": "execute_result",
          "data": {
            "text/plain": [
              "-0.007007816507845362"
            ]
          },
          "metadata": {
            "tags": []
          },
          "execution_count": 740
        }
      ]
    },
    {
      "cell_type": "code",
      "metadata": {
        "colab": {
          "base_uri": "https://localhost:8080/",
          "height": 278
        },
        "id": "oI3yE1L8SXrW",
        "outputId": "ce9d566f-38a2-4c0a-d63f-17fec7ca6224"
      },
      "source": [
        "#Residual Plot\n",
        "import matplotlib.pyplot as plt\n",
        "\n",
        "plt.scatter(Elastic_pred, residuals, color='black')\n",
        "plt.ylabel('residual')\n",
        "plt.xlabel('fitted values')\n",
        "plt.axhline(y= residuals.mean(), color='red', linewidth=1)\n",
        "plt.show()\n",
        "\n",
        "#This does not look too bad: our residuals are somehow centered around \n",
        "#a mean that is very close to 0 though there are outliers but there are no obvious patterns\n",
        "#Since there is no major difference between multiple,ridge model and lasso regressions,the residual plot is almost exact same"
      ],
      "execution_count": 741,
      "outputs": [
        {
          "output_type": "display_data",
          "data": {
            "image/png": "[encoded data removed]",
            "text/plain": [
              "<Figure size 432x288 with 1 Axes>"
            ]
          },
          "metadata": {
            "tags": [],
            "needs_background": "light"
          }
        }
      ]
    },
    {
      "cell_type": "markdown",
      "metadata": {
        "id": "URr5XQVhSnEx"
      },
      "source": [
        "#Barlett's test for heteroscedasticity"
      ]
    },
    {
      "cell_type": "code",
      "metadata": {
        "colab": {
          "base_uri": "https://localhost:8080/"
        },
        "id": "8_ArQTgwSr7E",
        "outputId": "ed88139f-295d-4a0e-8821-e90f168c47f2"
      },
      "source": [
        "#Heteroscedasticity test\n",
        "\n",
        "import scipy as sp\n",
        "\n",
        "test_result, p_value = sp.stats.bartlett(Elastic_pred, residuals)\n",
        "\n",
        "# To interpret the results we must also compute a critical value of the chi squared distribution\n",
        "degree_of_freedom = len(Lasso_pred)-1\n",
        "probability = 1 - p_value\n",
        "\n",
        "critical_value = sp.stats.chi2.ppf(probability, degree_of_freedom)\n",
        "print(critical_value)\n",
        "\n",
        "# If the test_result is greater than the critical value, then we reject our null\n",
        "# hypothesis. This would mean that there are patterns to the variance of the data\n",
        "\n",
        "# Otherwise, we can identify no patterns, and we accept the null hypothesis that \n",
        "# the variance is homogeneous across our data\n",
        "\n",
        "if (test_result > critical_value):\n",
        "  print('the variances are unequal, and the model should be reassessed')\n",
        "else:\n",
        "  print('the variances are homogeneous!')\n",
        "\n",
        "#There are no patterns in the variance of the data"
      ],
      "execution_count": 742,
      "outputs": [
        {
          "output_type": "stream",
          "text": [
            "inf\n",
            "the variances are homogeneous!\n"
          ],
          "name": "stdout"
        }
      ]
    },
    {
      "cell_type": "markdown",
      "metadata": {
        "id": "slo1z6xD1_Rl"
      },
      "source": [
        "#Evaluation of model performance\n",
        "In **general**, we see that the performance of all our models i.e lasso,ridge,Elastic and multiple linear regression is alomost the same in term sof accuracy and the best in accuracy is multiple linear regression and lowest is Elastic net regression though the difference is slight.\n",
        "\n",
        "\n",
        "In terms of RMSE, Elastic Net regression model has the lowest with a significant difference from the RMSE of other regression models.Thus the overall best model is the Elastic Net regression with a good RMSE and an accuracy slightly same as other regressiom models."
      ]
    },
    {
      "cell_type": "markdown",
      "metadata": {
        "id": "o0HWMm8u3dFf"
      },
      "source": [
        "#6. Challenging the solution"
      ]
    },
    {
      "cell_type": "markdown",
      "metadata": {
        "id": "swcnJuyC3mvd"
      },
      "source": [
        "The reaserch was a success as we could be able to create a model that would allow the company to accurately predict the sale of prices upon being provided with the predictor variables.However the results could be improved if we had more features that could help us predict the results of a game.\n",
        "\n",
        "Otherwise we can note the below:\n",
        "\n",
        "\n",
        "1.The data we used for our research was appropriate to achieve the results.\n",
        "\n",
        "\n",
        "2.The reaserch was a success as we were able to select the model taht best predicts sale of prices upon being provided with the predictor variables. "
      ]
    }
  ]
}